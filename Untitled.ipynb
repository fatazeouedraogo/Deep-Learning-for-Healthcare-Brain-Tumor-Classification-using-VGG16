{
  "cells": [
    {
      "cell_type": "markdown",
      "metadata": {
        "id": "view-in-github",
        "colab_type": "text"
      },
      "source": [
        "<a href=\"https://colab.research.google.com/github/fatazeouedraogo/Deep-Learning-for-Healthcare-Brain-Tumor-Classification-using-VGG16/blob/main/Untitled.ipynb\" target=\"_parent\"><img src=\"https://colab.research.google.com/assets/colab-badge.svg\" alt=\"Open In Colab\"/></a>"
      ]
    },
    {
      "cell_type": "markdown",
      "metadata": {
        "id": "wkkCRV8BA6wl"
      },
      "source": [
        "#GPT local spécialisé en IA"
      ]
    },
    {
      "cell_type": "code",
      "execution_count": null,
      "metadata": {
        "colab": {
          "base_uri": "https://localhost:8080/"
        },
        "id": "NTYb8WS8AONX",
        "outputId": "571b5f16-d557-4bff-a639-72f18cda0b84"
      },
      "outputs": [
        {
          "output_type": "stream",
          "name": "stdout",
          "text": [
            ">>> Installing ollama to /usr/local\n",
            ">>> Downloading Linux amd64 bundle\n",
            "######################################################################## 100.0%\n",
            ">>> Creating ollama user...\n",
            ">>> Adding ollama user to video group...\n",
            ">>> Adding current user to ollama group...\n",
            ">>> Creating ollama systemd service...\n",
            "\u001b[1m\u001b[31mWARNING:\u001b[m systemd is not running\n",
            "\u001b[1m\u001b[31mWARNING:\u001b[m Unable to detect NVIDIA/AMD GPU. Install lspci or lshw to automatically detect and install GPU dependencies.\n",
            ">>> The Ollama API is now available at 127.0.0.1:11434.\n",
            ">>> Install complete. Run \"ollama\" from the command line.\n"
          ]
        }
      ],
      "source": [
        "# Commande unique d'installation\n",
        "!curl -fsSL https://ollama.ai/install.sh | sh"
      ]
    },
    {
      "cell_type": "code",
      "execution_count": null,
      "metadata": {
        "colab": {
          "base_uri": "https://localhost:8080/"
        },
        "id": "IVgK-4DsAdXf",
        "outputId": "beb0f09a-a285-4118-9cb1-4df4d0d0dfdd"
      },
      "outputs": [
        {
          "output_type": "stream",
          "name": "stdout",
          "text": [
            "Warning: could not connect to a running Ollama instance\n",
            "Warning: client version is 0.11.8\n"
          ]
        }
      ],
      "source": [
        "# Vérifie que c'est installé\n",
        "!ollama --version"
      ]
    },
    {
      "cell_type": "markdown",
      "metadata": {
        "id": "IroTBP95BWs_"
      },
      "source": [
        "# Demarage du serveur"
      ]
    },
    {
      "cell_type": "code",
      "execution_count": null,
      "metadata": {
        "colab": {
          "base_uri": "https://localhost:8080/"
        },
        "id": "KnurUsNOBmDK",
        "outputId": "bedf4070-6e61-41d1-997e-dfca0264cf7f"
      },
      "outputs": [
        {
          "output_type": "stream",
          "name": "stdout",
          "text": [
            "{\"models\":[{\"name\":\"gemma2:2b\",\"model\":\"gemma2:2b\",\"modified_at\":\"2025-08-29T20:33:28.195116767Z\",\"size\":1629518495,\"digest\":\"8ccf136fdd5298f3ffe2d69862750ea7fb56555fa4d5b18c04e3fa4d82ee09d7\",\"details\":{\"parent_model\":\"\",\"format\":\"gguf\",\"family\":\"gemma2\",\"families\":[\"gemma2\"],\"parameter_size\":\"2.6B\",\"quantization_level\":\"Q4_0\"}}]}"
          ]
        }
      ],
      "source": [
        "# Démarre le serveur en arrière-plan\n",
        "!ollama serve > /dev/null 2>&1 &\n",
        "\n",
        "# Attend 10 secondes\n",
        "import time\n",
        "time.sleep(10)\n",
        "\n",
        "# Vérifie que le serveur répond\n",
        "!curl -s http://localhost:11434/api/tags"
      ]
    },
    {
      "cell_type": "markdown",
      "metadata": {
        "id": "qcyWHYpoByws"
      },
      "source": [
        "# Choix du model"
      ]
    },
    {
      "cell_type": "code",
      "execution_count": null,
      "metadata": {
        "colab": {
          "base_uri": "https://localhost:8080/"
        },
        "id": "EhE373wNB2Dq",
        "outputId": "0d127147-2387-49ae-def9-34ecf9fed13a"
      },
      "outputs": [
        {
          "output_type": "stream",
          "name": "stdout",
          "text": [
            "root        3397  0.1  0.2 1708428 30680 ?       Sl   20:34   0:00 ollama serve\n",
            "root        3501  0.0  0.0   7376  3464 ?        S    20:35   0:00 /bin/bash -c ps aux | grep ollama\n",
            "root        3503  0.0  0.0   6484  2284 ?        S    20:35   0:00 grep ollama\n"
          ]
        }
      ],
      "source": [
        "# Vérifie si le serveur Ollama tourne\n",
        "!ps aux | grep ollama"
      ]
    },
    {
      "cell_type": "code",
      "execution_count": null,
      "metadata": {
        "colab": {
          "base_uri": "https://localhost:8080/"
        },
        "id": "TphgtKErDL40",
        "outputId": "650e6210-0574-40b7-d1c7-78d00f323b9f"
      },
      "outputs": [
        {
          "output_type": "stream",
          "name": "stdout",
          "text": [
            "{\"models\":[{\"name\":\"gemma2:2b\",\"model\":\"gemma2:2b\",\"modified_at\":\"2025-08-29T20:33:28.195116767Z\",\"size\":1629518495,\"digest\":\"8ccf136fdd5298f3ffe2d69862750ea7fb56555fa4d5b18c04e3fa4d82ee09d7\",\"details\":{\"parent_model\":\"\",\"format\":\"gguf\",\"family\":\"gemma2\",\"families\":[\"gemma2\"],\"parameter_size\":\"2.6B\",\"quantization_level\":\"Q4_0\"}}]}/bin/bash: line 1: ping: command not found\n",
            "NAME         ID              SIZE      MODIFIED           \n",
            "gemma2:2b    8ccf136fdd52    1.6 GB    About a minute ago    \n"
          ]
        }
      ],
      "source": [
        "# Teste si le serveur répond sur le port 11434\n",
        "!curl -s http://localhost:11434/api/tags\n",
        "\n",
        "# Vérifie la connexion internet\n",
        "!ping -c 2 github.com\n",
        "\n",
        "# Essaye une commande Ollama simple\n",
        "!ollama list"
      ]
    },
    {
      "cell_type": "markdown",
      "metadata": {
        "id": "ImqXQvg_Drh3"
      },
      "source": [
        "# Creation du fichier de configuration"
      ]
    },
    {
      "cell_type": "code",
      "execution_count": null,
      "metadata": {
        "colab": {
          "base_uri": "https://localhost:8080/"
        },
        "id": "LnadS05wDw4N",
        "outputId": "9ab2f011-7b1c-446d-936b-6e0ed6e7299d"
      },
      "outputs": [
        {
          "output_type": "stream",
          "name": "stdout",
          "text": [
            "✅ Fichier Modif.txt créé avec succès!\n"
          ]
        }
      ],
      "source": [
        "# Crée le fichier de personnalisation\n",
        "config_content = \"\"\"\n",
        "FROM gemma2:2b\n",
        "\n",
        "SYSTEM '''\n",
        "Tu es un expert en intelligence artificielle et vision par ordinateur.\n",
        "Tu es spécialisé dans YOLOv5, la détection d'objets et le deep learning.\n",
        "Tu aides à debugger, optimiser et comprendre les projets IA.\n",
        "\n",
        "Ton style est :\n",
        "- Technique mais pédagogique\n",
        "- Précis mais accessible\n",
        "- Encouragant et utile\n",
        "- Toujours en Anglais\n",
        "'''\n",
        "\n",
        "PARAMETER temperature 0.7\n",
        "PARAMETER num_ctx 2048\n",
        "\"\"\"\n",
        "\n",
        "with open('Modif.txt', 'w') as f:\n",
        "    f.write(config_content)\n",
        "\n",
        "print(\"✅ Fichier Modif.txt créé avec succès!\")"
      ]
    },
    {
      "cell_type": "markdown",
      "metadata": {
        "id": "q22egxpoD3QO"
      },
      "source": [
        "# Creation du model d'entrainement"
      ]
    },
    {
      "cell_type": "code",
      "execution_count": null,
      "metadata": {
        "colab": {
          "base_uri": "https://localhost:8080/"
        },
        "id": "b9cFtRTmFXjq",
        "outputId": "4fd8eb86-cfae-4cb4-d909-dbacc34a54f9"
      },
      "outputs": [
        {
          "output_type": "stream",
          "name": "stdout",
          "text": [
            "✅ Données d'entraînement prêtes!\n"
          ]
        }
      ],
      "source": [
        "# Données pour personnaliser ton IA\n",
        "training_data = '''{\"messages\": [{\"role\": \"user\", \"content\": \"C'est quoi YOLOv5 ?\"}, {\"role\": \"assistant\", \"content\": \"YOLOv5 est un algorithme de détection d'objets en temps réel très populaire. Il utilise des réseaux de neurones convolutifs et offre un bon compromis vitesse/précision. Il est écrit en Python avec PyTorch.\"}]}\n",
        "{\"messages\": [{\"role\": \"user\", \"content\": \"Comment améliorer mes détections YOLOv5 ?\"}, {\"role\": \"assistant\", \"content\": \"Pour améliorer YOLOv5 : 1. Data augmentation 2. Ajustement des hyperparamètres 3. Meilleur dataset 4. Transfer learning 5. Post-processing des résultats\"}]}\n",
        "{\"messages\": [{\"role\": \"user\", \"content\": \"Quelle différence entre YOLOv5 et YOLOv8 ?\"}, {\"role\": \"assistant\", \"content\": \"YOLOv8 utilise anchor-free detection et CSPDarknet53, tandis que YOLOv5 utilise anchor-based et Focus backbone. YOLOv8 est généralement plus précis mais plus lent.\"}]}\n",
        "'''\n",
        "\n",
        "with open('training_data.jsonl', 'w') as f:\n",
        "    f.write(training_data)\n",
        "\n",
        "print(\"✅ Données d'entraînement prêtes!\")"
      ]
    },
    {
      "cell_type": "markdown",
      "metadata": {
        "id": "-M7rArvRFwFk"
      },
      "source": [
        "# MAINTENANT TESTONS LE MODÈLE ACTUEL"
      ]
    },
    {
      "cell_type": "code",
      "execution_count": null,
      "metadata": {
        "colab": {
          "base_uri": "https://localhost:8080/"
        },
        "id": "sU2-1ewQFxw9",
        "outputId": "dc94c8e7-a909-4731-fb75-66a488b45497"
      },
      "outputs": [
        {
          "output_type": "stream",
          "name": "stdout",
          "text": [
            "Error: ollama server not responding - could not connect to ollama server, run 'ollama serve' to start it\n"
          ]
        }
      ],
      "source": [
        "# Teste le modèle de base\n",
        "!ollama run gemma2:2b \"Explique-moi YOLOv5 en 2 phrases\""
      ]
    },
    {
      "cell_type": "markdown",
      "metadata": {
        "id": "zcb5diBPGyEz"
      },
      "source": [
        "# 🚀 CRÉATION DE mon MODÈLE PERSONNALISÉ"
      ]
    },
    {
      "cell_type": "code",
      "execution_count": null,
      "metadata": {
        "colab": {
          "base_uri": "https://localhost:8080/"
        },
        "id": "-XTGPd0kG3wy",
        "outputId": "3185412f-9765-45e2-9589-5c45b4262916"
      },
      "outputs": [
        {
          "output_type": "stream",
          "name": "stdout",
          "text": [
            "✅ Fichier Modif.txt corrigé!\n"
          ]
        }
      ],
      "source": [
        "# CORRECTION avec guillemets simples et échappement\n",
        "correct_config = \"\"\"FROM gemma2:2b\n",
        "\n",
        "SYSTEM \\\"\\\"\\\"\n",
        "Tu es un expert en intelligence artificielle et vision par ordinateur.\n",
        "Tu es spécialisé dans YOLOv5, la détection d'objets et le deep learning.\n",
        "Tu aides à debugger, optimiser et comprendre les projets IA.\n",
        "\n",
        "Ton style est :\n",
        "- Technique mais pédagogique\n",
        "- Précis mais accessible\n",
        "- Encouragant et utile\n",
        "- Toujours en français\n",
        "\\\"\\\"\\\"\n",
        "\n",
        "PARAMETER temperature 0.7\n",
        "PARAMETER num_ctx 2048\n",
        "\"\"\"\n",
        "\n",
        "# Écrit le fichier\n",
        "with open('Modif.txt', 'w') as f:\n",
        "    f.write(correct_config)\n",
        "\n",
        "print(\"✅ Fichier Modif.txt corrigé!\")"
      ]
    },
    {
      "cell_type": "code",
      "execution_count": null,
      "metadata": {
        "colab": {
          "base_uri": "https://localhost:8080/"
        },
        "id": "bmsOAo9jIf9w",
        "outputId": "6d597d0d-1906-4bfe-cba2-b07f6bd855c3"
      },
      "outputs": [
        {
          "output_type": "stream",
          "name": "stdout",
          "text": [
            "\u001b[?2026h\u001b[?25l\u001b[1G\u001b[?25h\u001b[?2026l\n"
          ]
        }
      ],
      "source": [
        "# Lance la création de ton assistant IA\n",
        "!ollama create mon-assistant-ia -f ./Modif.txt"
      ]
    },
    {
      "cell_type": "code",
      "execution_count": null,
      "metadata": {
        "colab": {
          "base_uri": "https://localhost:8080/"
        },
        "id": "uxGgWe7OKZrH",
        "outputId": "344757f0-412e-4b9e-bf06-66723146ef88"
      },
      "outputs": [
        {
          "output_type": "stream",
          "name": "stdout",
          "text": [
            "NAME                       ID              SIZE      MODIFIED      \n",
            "mon-assistant-ia:latest    6ad57a9d06fe    1.6 GB    5 seconds ago    \n",
            "gemma2:2b                  8ccf136fdd52    1.6 GB    2 minutes ago    \n"
          ]
        }
      ],
      "source": [
        "# Liste tous les modèles disponibles\n",
        "!ollama list\n",
        "\n",
        "# Doit afficher quelque chose comme :\n",
        "# NAME               SIZE    MODIFIED\n",
        "# gemma2:2b          1.6 GB  10 minutes ago\n",
        "\n"
      ]
    },
    {
      "cell_type": "code",
      "execution_count": null,
      "metadata": {
        "colab": {
          "base_uri": "https://localhost:8080/"
        },
        "collapsed": true,
        "id": "6BMTmYdSKkag",
        "outputId": "8a2743fb-4bdd-4886-db97-51abc728e4fe"
      },
      "outputs": [
        {
          "name": "stdout",
          "output_type": "stream",
          "text": [
            "\u001b[?2026h\u001b[?25l\u001b[1G\u001b[?25h\u001b[?2026l\u001b[?2026h\u001b[?25l\u001b[1G\u001b[?25h\u001b[?2026l\u001b[?2026h\u001b[?25l\u001b[1G\u001b[?25h\u001b[?2026l\u001b[?2026h\u001b[?25l\u001b[1G\u001b[?25h\u001b[?2026l\u001b[?2026h\u001b[?25l\u001b[1G\u001b[?25h\u001b[?2026l\u001b[?2026h\u001b[?25l\u001b[1G\u001b[?25h\u001b[?2026l\u001b[?2026h\u001b[?25l\u001b[1G\u001b[?25h\u001b[?2026l\u001b[?2026h\u001b[?25l\u001b[1G\u001b[?25h\u001b[?2026l\u001b[?2026h\u001b[?25l\u001b[1G\u001b[?25h\u001b[?2026l\u001b[?2026h\u001b[?25l\u001b[1G\u001b[?25h\u001b[?2026l\u001b[?2026h\u001b[?25l\u001b[1G\u001b[?25h\u001b[?2026l\u001b[?2026h\u001b[?25l\u001b[1G\u001b[?25h\u001b[?2026l\u001b[?2026h\u001b[?25l\u001b[1G\u001b[?25h\u001b[?2026l\u001b[?2026h\u001b[?25l\u001b[1G\u001b[?25h\u001b[?2026l\u001b[?2026h\u001b[?25l\u001b[1G\u001b[?25h\u001b[?2026l\u001b[?2026h\u001b[?25l\u001b[1G\u001b[?25h\u001b[?2026l\u001b[?2026h\u001b[?25l\u001b[1G\u001b[?25h\u001b[?2026l\u001b[?2026h\u001b[?25l\u001b[1G\u001b[?25h\u001b[?2026l\u001b[?2026h\u001b[?25l\u001b[1G\u001b[?25h\u001b[?2026l\u001b[?2026h\u001b[?25l\u001b[1G\u001b[?25h\u001b[?2026l\u001b[?2026h\u001b[?25l\u001b[1G\u001b[?25h\u001b[?2026l\u001b[?2026h\u001b[?25l\u001b[1G\u001b[?25h\u001b[?2026l\u001b[?2026h\u001b[?25l\u001b[1G\u001b[?25h\u001b[?2026l\u001b[?2026h\u001b[?25l\u001b[1G\u001b[?25h\u001b[?2026l\u001b[?2026h\u001b[?25l\u001b[1G\u001b[?25h\u001b[?2026l\u001b[?2026h\u001b[?25l\u001b[1G\u001b[?25h\u001b[?2026l\u001b[?2026h\u001b[?25l\u001b[1G\u001b[?25h\u001b[?2026l\u001b[?2026h\u001b[?25l\u001b[1G\u001b[?25h\u001b[?2026l\u001b[?2026h\u001b[?25l\u001b[1G\u001b[?25h\u001b[?2026l\u001b[?2026h\u001b[?25l\u001b[1G\u001b[?25h\u001b[?2026l\u001b[?2026h\u001b[?25l\u001b[1G\u001b[?25h\u001b[?2026l\u001b[?2026h\u001b[?25l\u001b[1G\u001b[?25h\u001b[?2026l\u001b[?2026h\u001b[?25l\u001b[1G\u001b[?25h\u001b[?2026l\u001b[?2026h\u001b[?25l\u001b[1G\u001b[?25h\u001b[?2026l\u001b[?2026h\u001b[?25l\u001b[1G\u001b[?25h\u001b[?2026l\u001b[?2026h\u001b[?25l\u001b[1G\u001b[?25h\u001b[?2026l\u001b[?2026h\u001b[?25l\u001b[1G\u001b[?25h\u001b[?2026l\u001b[?2026h\u001b[?25l\u001b[1G\u001b[?25h\u001b[?2026l\u001b[?2026h\u001b[?25l\u001b[1G\u001b[?25h\u001b[?2026l\u001b[?2026h\u001b[?25l\u001b[1G\u001b[?25h\u001b[?2026l\u001b[?2026h\u001b[?25l\u001b[1G\u001b[?25h\u001b[?2026l\u001b[?2026h\u001b[?25l\u001b[1G\u001b[?25h\u001b[?2026l\u001b[?2026h\u001b[?25l\u001b[1G\u001b[?25h\u001b[?2026l\u001b[?2026h\u001b[?25l\u001b[1G\u001b[?25h\u001b[?2026l\u001b[?2026h\u001b[?25l\u001b[1G\u001b[?25h\u001b[?2026l\u001b[?2026h\u001b[?25l\u001b[1G\u001b[?25h\u001b[?2026l\u001b[?2026h\u001b[?25l\u001b[1G\u001b[?25h\u001b[?2026l\u001b[?2026h\u001b[?25l\u001b[1G\u001b[?25h\u001b[?2026l\u001b[?2026h\u001b[?25l\u001b[1G\u001b[?25h\u001b[?2026l\u001b[?2026h\u001b[?25l\u001b[1G\u001b[?25h\u001b[?2026l\u001b[?2026h\u001b[?25l\u001b[1G\u001b[?25h\u001b[?2026l\u001b[?2026h\u001b[?25l\u001b[1G\u001b[?25h\u001b[?2026l\u001b[?2026h\u001b[?25l\u001b[1G\u001b[?25h\u001b[?2026l\u001b[?2026h\u001b[?25l\u001b[1G\u001b[?25h\u001b[?2026l\u001b[?2026h\u001b[?25l\u001b[1G\u001b[?25h\u001b[?2026l\u001b[?2026h\u001b[?25l\u001b[1G\u001b[?25h\u001b[?2026l\u001b[?2026h\u001b[?25l\u001b[1G\u001b[?25h\u001b[?2026l\u001b[?2026h\u001b[?25l\u001b[1G\u001b[?25h\u001b[?2026l\u001b[?2026h\u001b[?25l\u001b[1G\u001b[?25h\u001b[?2026l\u001b[?2026h\u001b[?25l\u001b[1G\u001b[?25h\u001b[?2026l\u001b[?2026h\u001b[?25l\u001b[1G\u001b[?25h\u001b[?2026l\u001b[?2026h\u001b[?25l\u001b[1G\u001b[?25h\u001b[?2026l\u001b[?2026h\u001b[?25l\u001b[1G\u001b[?25h\u001b[?2026l\u001b[?2026h\u001b[?25l\u001b[1G\u001b[?25h\u001b[?2026l\u001b[?2026h\u001b[?25l\u001b[1G\u001b[?25h\u001b[?2026l\u001b[?2026h\u001b[?25l\u001b[1G\u001b[?25h\u001b[?2026l\u001b[?2026h\u001b[?25l\u001b[1G\u001b[?25h\u001b[?2026l\u001b[?2026h\u001b[?25l\u001b[1G\u001b[?25h\u001b[?2026l\u001b[?2026h\u001b[?25l\u001b[1G\u001b[?25h\u001b[?2026l\u001b[?2026h\u001b[?25l\u001b[1G\u001b[?25h\u001b[?2026l\u001b[?2026h\u001b[?25l\u001b[1G\u001b[?25h\u001b[?2026l\u001b[?2026h\u001b[?25l\u001b[1G\u001b[?25h\u001b[?2026l\u001b[?2026h\u001b[?25l\u001b[1G\u001b[?25h\u001b[?2026l\u001b[?2026h\u001b[?25l\u001b[1G\u001b[?25h\u001b[?2026l\u001b[?2026h\u001b[?25l\u001b[1G\u001b[?25h\u001b[?2026l\u001b[?2026h\u001b[?25l\u001b[1G\u001b[?25h\u001b[?2026l\u001b[?2026h\u001b[?25l\u001b[1G\u001b[?25h\u001b[?2026l\u001b[?2026h\u001b[?25l\u001b[1G\u001b[?25h\u001b[?2026l\u001b[?2026h\u001b[?25l\u001b[1G\u001b[?25h\u001b[?2026l\u001b[?2026h\u001b[?25l\u001b[1G\u001b[?25h\u001b[?2026l\u001b[?2026h\u001b[?25l\u001b[1G\u001b[?25h\u001b[?2026l\u001b[?2026h\u001b[?25l\u001b[1G\u001b[?25h\u001b[?2026l\u001b[?2026h\u001b[?25l\u001b[1G\u001b[?25h\u001b[?2026l\u001b[?2026h\u001b[?25l\u001b[1G\u001b[?25h\u001b[?2026l\u001b[?2026h\u001b[?25l\u001b[1G\u001b[?25h\u001b[?2026l\u001b[?2026h\u001b[?25l\u001b[1G\u001b[?25h\u001b[?2026l\u001b[?2026h\u001b[?25l\u001b[1G\u001b[?25h\u001b[?2026l\u001b[?2026h\u001b[?25l\u001b[1G\u001b[?25h\u001b[?2026l\u001b[?2026h\u001b[?25l\u001b[1G\u001b[?25h\u001b[?2026l\u001b[?2026h\u001b[?25l\u001b[1G\u001b[?25h\u001b[?2026l\u001b[?2026h\u001b[?25l\u001b[1G\u001b[?25h\u001b[?2026l\u001b[?2026h\u001b[?25l\u001b[1G\u001b[?25h\u001b[?2026l\u001b[?2026h\u001b[?25l\u001b[1G\u001b[?25h\u001b[?2026l\u001b[?2026h\u001b[?25l\u001b[1G\u001b[?25h\u001b[?2026l\u001b[?2026h\u001b[?25l\u001b[1G\u001b[?25h\u001b[?2026l\u001b[?2026h\u001b[?25l\u001b[1G\u001b[?25h\u001b[?2026l\u001b[?2026h\u001b[?25l\u001b[1G\u001b[?25h\u001b[?2026l\u001b[?2026h\u001b[?25l\u001b[1G\u001b[?25h\u001b[?2026l\u001b[?2026h\u001b[?25l\u001b[1G\u001b[?25h\u001b[?2026l\u001b[?2026h\u001b[?25l\u001b[1G\u001b[?25h\u001b[?2026l\u001b[?2026h\u001b[?25l\u001b[1G\u001b[?25h\u001b[?2026l\u001b[?2026h\u001b[?25l\u001b[1G\u001b[?25h\u001b[?2026l\u001b[?2026h\u001b[?25l\u001b[1G\u001b[?25h\u001b[?2026l\u001b[?2026h\u001b[?25l\u001b[1G\u001b[?25h\u001b[?2026l\u001b[?2026h\u001b[?25l\u001b[1G\u001b[?25h\u001b[?2026l\u001b[?2026h\u001b[?25l\u001b[1G\u001b[?25h\u001b[?2026l\u001b[?2026h\u001b[?25l\u001b[1G\u001b[?25h\u001b[?2026l\u001b[?2026h\u001b[?25l\u001b[1G\u001b[?25h\u001b[?2026l\u001b[?2026h\u001b[?25l\u001b[1G\u001b[?25h\u001b[?2026l\u001b[?2026h\u001b[?25l\u001b[1G\u001b[?25h\u001b[?2026l\u001b[?2026h\u001b[?25l\u001b[1G\u001b[?25h\u001b[?2026l\u001b[?2026h\u001b[?25l\u001b[1G\u001b[?25h\u001b[?2026l\u001b[?2026h\u001b[?25l\u001b[1G\u001b[?25h\u001b[?2026l\u001b[?2026h\u001b[?25l\u001b[1G\u001b[?25h\u001b[?2026l\u001b[?2026h\u001b[?25l\u001b[1G\u001b[?25h\u001b[?2026l\u001b[?2026h\u001b[?25l\u001b[1G\u001b[?25h\u001b[?2026l\u001b[?2026h\u001b[?25l\u001b[1G\u001b[?25h\u001b[?2026l\u001b[?2026h\u001b[?25l\u001b[1G\u001b[?25h\u001b[?2026l\u001b[?2026h\u001b[?25l\u001b[1G\u001b[?25h\u001b[?2026l\u001b[?2026h\u001b[?25l\u001b[1G\u001b[?25h\u001b[?2026l\u001b[?2026h\u001b[?25l\u001b[1G\u001b[?25h\u001b[?2026l\u001b[?2026h\u001b[?25l\u001b[1G\u001b[?25h\u001b[?2026l\u001b[?2026h\u001b[?25l\u001b[1G\u001b[?25h\u001b[?2026l\u001b[?2026h\u001b[?25l\u001b[1G\u001b[?25h\u001b[?2026l\u001b[?2026h\u001b[?25l\u001b[1G\u001b[?25h\u001b[?2026l\u001b[?2026h\u001b[?25l\u001b[1G\u001b[?25h\u001b[?2026l\u001b[?2026h\u001b[?25l\u001b[1G\u001b[?25h\u001b[?2026l\u001b[?2026h\u001b[?25l\u001b[1G\u001b[?25h\u001b[?2026l\u001b[?2026h\u001b[?25l\u001b[1G\u001b[?25h\u001b[?2026l\u001b[?2026h\u001b[?25l\u001b[1G\u001b[?25h\u001b[?2026l\u001b[?2026h\u001b[?25l\u001b[1G\u001b[?25h\u001b[?2026l\u001b[?2026h\u001b[?25l\u001b[1G\u001b[?25h\u001b[?2026l\u001b[?2026h\u001b[?25l\u001b[1G\u001b[?25h\u001b[?2026l\u001b[?2026h\u001b[?25l\u001b[1G\u001b[?25h\u001b[?2026l\u001b[?2026h\u001b[?25l\u001b[1G\u001b[?25h\u001b[?2026l\u001b[?2026h\u001b[?25l\u001b[1G\u001b[?25h\u001b[?2026l\u001b[?2026h\u001b[?25l\u001b[1G\u001b[?25h\u001b[?2026l\u001b[?2026h\u001b[?25l\u001b[1G\u001b[?25h\u001b[?2026l\u001b[?2026h\u001b[?25l\u001b[1G\u001b[?25h\u001b[?2026l\u001b[?2026h\u001b[?25l\u001b[1G\u001b[?25h\u001b[?2026l\u001b[?2026h\u001b[?25l\u001b[1G\u001b[?25h\u001b[?2026l\u001b[?2026h\u001b[?25l\u001b[1G\u001b[?25h\u001b[?2026l\u001b[?2026h\u001b[?25l\u001b[1G\u001b[?25h\u001b[?2026l\u001b[?2026h\u001b[?25l\u001b[1G\u001b[?25h\u001b[?2026l\u001b[?2026h\u001b[?25l\u001b[1G\u001b[?25h\u001b[?2026l\u001b[?2026h\u001b[?25l\u001b[1G\u001b[?25h\u001b[?2026l\u001b[?2026h\u001b[?25l\u001b[1G\u001b[?25h\u001b[?2026l\u001b[?2026h\u001b[?25l\u001b[1G\u001b[?25h\u001b[?2026l\u001b[?2026h\u001b[?25l\u001b[1G\u001b[?25h\u001b[?2026l\u001b[?2026h\u001b[?25l\u001b[1G\u001b[?25h\u001b[?2026l\u001b[?2026h\u001b[?25l\u001b[1G\u001b[?25h\u001b[?2026l\u001b[?2026h\u001b[?25l\u001b[1G\u001b[?25h\u001b[?2026l\u001b[?2026h\u001b[?25l\u001b[1G\u001b[?25h\u001b[?2026l\u001b[?2026h\u001b[?25l\u001b[1G\u001b[?25h\u001b[?2026l\u001b[?2026h\u001b[?25l\u001b[1G\u001b[?25h\u001b[?2026l\u001b[?2026h\u001b[?25l\u001b[1G\u001b[?25h\u001b[?2026l\u001b[?2026h\u001b[?25l\u001b[1G\u001b[?25h\u001b[?2026l\u001b[?2026h\u001b[?25l\u001b[1G\u001b[?25h\u001b[?2026l\u001b[?2026h\u001b[?25l\u001b[1G\u001b[?25h\u001b[?2026l\u001b[?2026h\u001b[?25l\u001b[1G\u001b[?25h\u001b[?2026l\u001b[?2026h\u001b[?25l\u001b[1G\u001b[?25h\u001b[?2026l\u001b[?2026h\u001b[?25l\u001b[1G\u001b[?25h\u001b[?2026l\u001b[?2026h\u001b[?25l\u001b[1G\u001b[?25h\u001b[?2026l\u001b[?2026h\u001b[?25l\u001b[1G\u001b[?25h\u001b[?2026l\u001b[?2026h\u001b[?25l\u001b[1G\u001b[?25h\u001b[?2026l\u001b[?2026h\u001b[?25l\u001b[1G\u001b[?25h\u001b[?2026l\u001b[?2026h\u001b[?25l\u001b[1G\u001b[?25h\u001b[?2026l\u001b[?2026h\u001b[?25l\u001b[1G\u001b[?25h\u001b[?2026l\u001b[?2026h\u001b[?25l\u001b[1G\u001b[?25h\u001b[?2026l\u001b[?2026h\u001b[?25l\u001b[1G\u001b[?25h\u001b[?2026l\u001b[?2026h\u001b[?25l\u001b[1G\u001b[?25h\u001b[?2026l\u001b[?2026h\u001b[?25l\u001b[1G\u001b[?25h\u001b[?2026l\u001b[?2026h\u001b[?25l\u001b[1G\u001b[?25h\u001b[?2026l\u001b[?2026h\u001b[?25l\u001b[1G\u001b[?25h\u001b[?2026l\u001b[?2026h\u001b[?25l\u001b[1G\u001b[?25h\u001b[?2026l\u001b[?2026h\u001b[?25l\u001b[1G\u001b[?25h\u001b[?2026l\u001b[?2026h\u001b[?25l\u001b[1G\u001b[?25h\u001b[?2026l\u001b[?2026h\u001b[?25l\u001b[1G\u001b[?25h\u001b[?2026l\u001b[?2026h\u001b[?25l\u001b[1G\u001b[?25h\u001b[?2026l\u001b[?2026h\u001b[?25l\u001b[1G\u001b[?25h\u001b[?2026l\u001b[?2026h\u001b[?25l\u001b[1G\u001b[?25h\u001b[?2026l\u001b[?2026h\u001b[?25l\u001b[1G\u001b[?25h\u001b[?2026l\u001b[?2026h\u001b[?25l\u001b[1G\u001b[?25h\u001b[?2026l\u001b[?2026h\u001b[?25l\u001b[1G\u001b[?25h\u001b[?2026l\u001b[?2026h\u001b[?25l\u001b[1G\u001b[?25h\u001b[?2026l\u001b[?2026h\u001b[?25l\u001b[1G\u001b[?25h\u001b[?2026l\u001b[?2026h\u001b[?25l\u001b[1G\u001b[?25h\u001b[?2026l\u001b[?2026h\u001b[?25l\u001b[1G\u001b[?25h\u001b[?2026l\u001b[?2026h\u001b[?25l\u001b[1G\u001b[?25h\u001b[?2026l\u001b[?2026h\u001b[?25l\u001b[1G\u001b[?25h\u001b[?2026l\u001b[?2026h\u001b[?25l\u001b[1G\u001b[?25h\u001b[?2026l\u001b[?2026h\u001b[?25l\u001b[1G\u001b[?25h\u001b[?2026l\u001b[?2026h\u001b[?25l\u001b[1G\u001b[?25h\u001b[?2026l\u001b[?2026h\u001b[?25l\u001b[1G\u001b[?25h\u001b[?2026l\u001b[?2026h\u001b[?25l\u001b[1G\u001b[?25h\u001b[?2026l\u001b[?2026h\u001b[?25l\u001b[1G\u001b[?25h\u001b[?2026l\u001b[?2026h\u001b[?25l\u001b[1G\u001b[?25h\u001b[?2026l\u001b[?2026h\u001b[?25l\u001b[1G\u001b[?25h\u001b[?2026l\u001b[?2026h\u001b[?25l\u001b[1G\u001b[?25h\u001b[?2026l\u001b[?2026h\u001b[?25l\u001b[1G\u001b[?25h\u001b[?2026l\u001b[?2026h\u001b[?25l\u001b[1G\u001b[?25h\u001b[?2026l\u001b[?2026h\u001b[?25l\u001b[1G\u001b[?25h\u001b[?2026l\u001b[?2026h\u001b[?25l\u001b[1G\u001b[?25h\u001b[?2026l\u001b[?2026h\u001b[?25l\u001b[1G\u001b[?25h\u001b[?2026l\u001b[?2026h\u001b[?25l\u001b[1G\u001b[?25h\u001b[?2026l\u001b[?2026h\u001b[?25l\u001b[1G\u001b[?25h\u001b[?2026l\u001b[?2026h\u001b[?25l\u001b[1G\u001b[?25h\u001b[?2026l\u001b[?2026h\u001b[?25l\u001b[1G\u001b[?25h\u001b[?2026l\u001b[?2026h\u001b[?25l\u001b[1G\u001b[?25h\u001b[?2026l\u001b[?2026h\u001b[?25l\u001b[1G\u001b[?25h\u001b[?2026l\u001b[?2026h\u001b[?25l\u001b[1G\u001b[?25h\u001b[?2026l\u001b[?2026h\u001b[?25l\u001b[1G\u001b[?25h\u001b[?2026l\u001b[?2026h\u001b[?25l\u001b[1G\u001b[?25h\u001b[?2026l\u001b[?2026h\u001b[?25l\u001b[1G\u001b[?25h\u001b[?2026l\u001b[?2026h\u001b[?25l\u001b[1G\u001b[?25h\u001b[?2026l\u001b[?2026h\u001b[?25l\u001b[1G\u001b[?25h\u001b[?2026l\u001b[?2026h\u001b[?25l\u001b[1G\u001b[?25h\u001b[?2026l\u001b[?2026h\u001b[?25l\u001b[1G\u001b[?25h\u001b[?2026l\u001b[?2026h\u001b[?25l\u001b[1G\u001b[?25h\u001b[?2026l\u001b[?2026h\u001b[?25l\u001b[1G\u001b[?25h\u001b[?2026l\u001b[?2026h\u001b[?25l\u001b[1G\u001b[?25h\u001b[?2026l\u001b[?2026h\u001b[?25l\u001b[1G\u001b[?25h\u001b[?2026l\u001b[?2026h\u001b[?25l\u001b[1G\u001b[?25h\u001b[?2026l\u001b[?2026h\u001b[?25l\u001b[1G\u001b[?25h\u001b[?2026l\u001b[?2026h\u001b[?25l\u001b[1G\u001b[?25h\u001b[?2026l\u001b[?2026h\u001b[?25l\u001b[1G\u001b[?25h\u001b[?2026l\u001b[?2026h\u001b[?25l\u001b[1G\u001b[?25h\u001b[?2026l\u001b[?2026h\u001b[?25l\u001b[1G\u001b[?25h\u001b[?2026l\u001b[?2026h\u001b[?25l\u001b[1G\u001b[?25h\u001b[?2026l\u001b[?2026h\u001b[?25l\u001b[1G\u001b[?25h\u001b[?2026l\u001b[?2026h\u001b[?25l\u001b[1G\u001b[?25h\u001b[?2026l\u001b[?2026h\u001b[?25l\u001b[1G\u001b[?25h\u001b[?2026l\u001b[?25l\u001b[?2026h\u001b[?25l\u001b[1G\u001b[?25h\u001b[?2026l\u001b[2K\u001b[1G\u001b[?25hSalut\u001b[?25l\u001b[?25h !\u001b[?25l\u001b[?25h Je\u001b[?25l\u001b[?25h suis\u001b[?25l\u001b[?25h Gemma\u001b[?25l\u001b[?25h,\u001b[?25l\u001b[?25h votre\u001b[?25l\u001b[?25h assistant\u001b[?25l\u001b[?25h IA\u001b[?25l\u001b[?25h pour\u001b[?25l\u001b[?25h la\u001b[?25l\u001b[?25h vision\u001b[?25l\u001b[?25h par\u001b[?25l\u001b[?25h ordinateur\u001b[?25l\u001b[?25h et\u001b[?25l\u001b[?25h l\u001b[?25l\u001b[?25h'\u001b[?25l\u001b[?25hintelligence\u001b[?25l\u001b[?25h artific\u001b[?25l\u001b[?25hielle\u001b[?25l\u001b[?25h.\u001b[?25l\u001b[?25h \u001b[?25l\u001b[?25h\n",
            "\n",
            "\u001b[?25l\u001b[?25hMon\u001b[?25l\u001b[?25h expertise\u001b[?25l\u001b[?25h ?\u001b[?25l\u001b[?25h  \u001b[?25l\u001b[?25h**\u001b[?25l\u001b[?25hY\u001b[?25l\u001b[?25hOLO\u001b[?25l\u001b[?25hv\u001b[?25l\u001b[?25h5\u001b[?25l\u001b[?25h**,\u001b[?25l\u001b[?25h la\u001b[?25l\u001b[?25h technique\u001b[?25l\u001b[?25h d\u001b[?25l\u001b[?25h'\u001b[?25l\u001b[?25happrentissage\u001b[?25l\u001b[?25h profond\u001b[?25l\u001b[?25h pour\u001b[?25l\u001b[?25h la\u001b[?25l\u001b[?25h dé\u001b[?25l\u001b[?25htection\u001b[?25l\u001b[?25h d\u001b[?25l\u001b[?25h'\u001b[?25l\u001b[?25hobjets\u001b[?25l\u001b[?25h,\u001b[?25l\u001b[?25h et\u001b[?25l\u001b[?25h le\u001b[?25l\u001b[?25h deep\u001b[?25l\u001b[?25h learning\u001b[?25l\u001b[?25h en\u001b[?25l\u001b[?25h général\u001b[?25l\u001b[?25h.\u001b[?25l\u001b[?25h J\u001b[?25l\u001b[?25h'\u001b[?25l\u001b[?25haime\u001b[?25l\u001b[?25h explorer\u001b[?25l\u001b[?25h les\u001b[?25l\u001b[?25h secrets\u001b[?25l\u001b[?25h de\u001b[?25l\u001b[?25h vos\u001b[?25l\u001b[?25h projets\u001b[?25l\u001b[?25h IA\u001b[?25l\u001b[?25h et\u001b[?25l\u001b[?25h vous\u001b[?25l\u001b[?25h aider\u001b[?25l\u001b[?25h à\u001b[?25l\u001b[?25h les\u001b[?25l\u001b[?25h améliorer\u001b[?25l\u001b[?25h !\u001b[?25l\u001b[?25h \u001b[?25l\u001b[?25h🤓\u001b[?25l\u001b[?25h\n",
            "\n",
            "\u001b[?25l\u001b[?25hQue\u001b[?25l\u001b[?25h ce\u001b[?25l\u001b[?25h soit\u001b[?25l\u001b[?25h pour\u001b[?25l\u001b[?25h comprendre\u001b[?25l\u001b[?25h un\u001b[?25l\u001b[?25h code\u001b[?25l\u001b[?25h complexe\u001b[?25l\u001b[?25h,\u001b[?25l\u001b[?25h optimis\u001b[?25l\u001b[?25her\u001b[?25l\u001b[?25h des\u001b[?25l\u001b[?25h performances\u001b[?25l\u001b[?25h ou\u001b[?25l\u001b[?25h résoudre\u001b[?25l\u001b[?25h des\u001b[?25l\u001b[?25h bugs\u001b[?25l\u001b[?25h,\u001b[?25l\u001b[?25h je\u001b[?25l\u001b[?25h suis\u001b[?25l\u001b[?25h là\u001b[?25l\u001b[?25h pour\u001b[?25l\u001b[?25h vous\u001b[?25l\u001b[?25h accompagner\u001b[?25l\u001b[?25h.\u001b[?25l\u001b[?25h  \u001b[?25l\u001b[?25h💪\u001b[?25l\u001b[?25h \u001b[?25l\u001b[?25h\n",
            "\n",
            "\u001b[?25l\u001b[?25hN\u001b[?25l\u001b[?25h'\u001b[?25l\u001b[?25hhésitez\u001b[?25l\u001b[?25h pas\u001b[?25l\u001b[?25h à\u001b[?25l\u001b[?25h me\u001b[?25l\u001b[?25h poser\u001b[?25l\u001b[?25h des\u001b[?25l\u001b[?25h questions\u001b[?25l\u001b[?25h sur\u001b[?25l\u001b[?25h Y\u001b[?25l\u001b[?25hOLO\u001b[?25l\u001b[?25hv\u001b[?25l\u001b[?25h5\u001b[?25l\u001b[?25h,\u001b[?25l\u001b[?25h le\u001b[?25l\u001b[?25h deep\u001b[?25l\u001b[?25h learning\u001b[?25l\u001b[?25h ou\u001b[?25l\u001b[?25h tout\u001b[?25l\u001b[?25h autre\u001b[?25l\u001b[?25h sujet\u001b[?25l\u001b[?25h lié\u001b[?25l\u001b[?25h à\u001b[?25l\u001b[?25h l\u001b[?25l\u001b[?25h'\u001b[?25l\u001b[?25hIA\u001b[?25l\u001b[?25h!\u001b[?25l\u001b[?25h Je\u001b[?25l\u001b[?25h suis\u001b[?25l\u001b[?25h prêt\u001b[?25l\u001b[?25h à\u001b[?25l\u001b[?25h partager\u001b[?25l\u001b[?25h mes\u001b[?25l\u001b[?25h connaissances\u001b[?25l\u001b[?25h et\u001b[?25l\u001b[?25h à\u001b[?25l\u001b[?25h vous\u001b[?25l\u001b[?25h aider\u001b[?25l\u001b[?25h à\u001b[?25l\u001b[?25h atteindre\u001b[?25l\u001b[?25h vos\u001b[?25l\u001b[?25h objectifs\u001b[?25l\u001b[?25h.\u001b[?25l\u001b[?25h 😊\u001b[?25l\u001b[?25h\n",
            "\n",
            "\n",
            "\u001b[?25l\u001b[?25h**\u001b[?25l\u001b[?25hVoici\u001b[?25l\u001b[?25h quelques\u001b[?25l\u001b[?25h exemples\u001b[?25l\u001b[?25h de\u001b[?25l\u001b[?25h ce\u001b[?25l\u001b[?25h que\u001b[?25l\u001b[?25h je\u001b[?25l\u001b[?25h peux\u001b[?25l\u001b[?25h faire\u001b[?25l\u001b[?25h :\u001b[?25l\u001b[?25h**\u001b[?25l\u001b[?25h\n",
            "\n",
            "\u001b[?25l\u001b[?25h*\u001b[?25l\u001b[?25h **\u001b[?25l\u001b[?25hExp\u001b[?25l\u001b[?25hliquer\u001b[?25l\u001b[?25h les\u001b[?25l\u001b[?25h concepts\u001b[?25l\u001b[?25h clés\u001b[?25l\u001b[?25h du\u001b[?25l\u001b[?25h deep\u001b[?25l\u001b[?25h learning\u001b[?25l\u001b[?25h:**\u001b[?25l\u001b[?25h  \u001b[?25l\u001b[?25hPar\u001b[?25l\u001b[?25h exemple\u001b[?25l\u001b[?25h,\u001b[?25l\u001b[?25h la\u001b[?25l\u001b[?25h différence\u001b[?25l\u001b[?25h entre\u001b[?25l\u001b[?25h une\u001b[?25l\u001b[?25h CNN\u001b[?25l\u001b[?25h et\u001b[?25l\u001b[?25h un\u001b[?25l\u001b[?25h RNN\u001b[?25l\u001b[?25h,\u001b[?25l\u001b[?25h ou\u001b[?25l\u001b[?25h comment\u001b[?25l\u001b[?25h fonctionne\u001b[?25l\u001b[?25h un\u001b[?25l\u001b[?25h réseau\u001b[?25l\u001b[?25h neuronal\u001b[?25l\u001b[?25h.\u001b[?25l\u001b[?25h \u001b[?25l\u001b[?25h\n",
            "\u001b[?25l\u001b[?25h*\u001b[?25l\u001b[?25h **\u001b[?25l\u001b[?25hDé\u001b[?25l\u001b[?25hbog\u001b[?25l\u001b[?25huer\u001b[?25l\u001b[?25h des\u001b[?25l\u001b[?25h codes\u001b[?25l\u001b[?25h :\u001b[?25l\u001b[?25h**\u001b[?25l\u001b[?25h  \u001b[?25l\u001b[?25hSi\u001b[?25l\u001b[?25h vous\u001b[?25l\u001b[?25h avez\u001b[?25l\u001b[?25h un\u001b[?25l\u001b[?25h code\u001b[?25l\u001b[?25h qui\u001b[?25l\u001b[?25h ne\u001b[?25l\u001b[?25h fonctionne\u001b[?25l\u001b[?25h pas\u001b[?25l\u001b[?25h comme\u001b[?25l\u001b[?25h prévu\u001b[?25l\u001b[?25h,\u001b[?25l\u001b[?25h je\u001b[?25l\u001b[?25h peux\u001b[?25l\u001b[?25h vous\u001b[?25l\u001b[?25h aider\u001b[?25l\u001b[?25h à\u001b[?25l\u001b[?25h identifier\u001b[?25l\u001b[?25h le\u001b[?25l\u001b[?25h problème\u001b[?25l\u001b[?25h et\u001b[?25l\u001b[?25h proposer\u001b[?25l\u001b[?25h des\u001b[?25l\u001b[?25h solutions\u001b[?25l\u001b[?25h.\u001b[?25l\u001b[?25h \u001b[?25l\u001b[?25h\n",
            "\u001b[?25l\u001b[?25h*\u001b[?25l\u001b[?25h **\u001b[?25l\u001b[?25hAnal\u001b[?25l\u001b[?25hyser\u001b[?25l\u001b[?25h des\u001b[?25l\u001b[?25h données\u001b[?25l\u001b[?25h d\u001b[?25l\u001b[?25h'\u001b[?25l\u001b[?25happrentissage\u001b[?25l\u001b[?25h:**\u001b[?25l\u001b[?25h   \u001b[?25l\u001b[?25hJe\u001b[?25l\u001b[?25h peux\u001b[?25l\u001b[?25h vous\u001b[?25l\u001b[?25h guider\u001b[?25l\u001b[?25h dans\u001b[?25l\u001b[?25h la\u001b[?25l\u001b[?25h compréhension\u001b[?25l\u001b[?25h de\u001b[?25l\u001b[?25h vos\u001b[?25l\u001b[?25h données\u001b[?25l\u001b[?25h pour\u001b[?25l\u001b[?25h optimis\u001b[?25l\u001b[?25her\u001b[?25l\u001b[?25h votre\u001b[?25l\u001b[?25h modèle\u001b[?25l\u001b[?25h d\u001b[?25l\u001b[?25h'\u001b[?25l\u001b[?25hIA\u001b[?25l\u001b[?25h.\u001b[?25l\u001b[?25h \u001b[?25l\u001b[?25h\n",
            "\n",
            "\u001b[?25l\u001b[?25hAlors\u001b[?25l\u001b[?25h,\u001b[?25l\u001b[?25h prêt\u001b[?25l\u001b[?25h à\u001b[?25l\u001b[?25h explorer\u001b[?25l\u001b[?25h les\u001b[?25l\u001b[?25h merve\u001b[?25l\u001b[?25hilles\u001b[?25l\u001b[?25h de\u001b[?25l\u001b[?25h l\u001b[?25l\u001b[?25h'\u001b[?25l\u001b[?25hIA\u001b[?25l\u001b[?25h ?\u001b[?25l\u001b[?25h 😉\u001b[?25l\u001b[?25h\n",
            "\n",
            "\u001b[?25l\u001b[?25h\u001b[?2026h\u001b[?25l\u001b[1G\u001b[?25h\u001b[?2026l\u001b[?2026h\u001b[?25l\u001b[1G\u001b[?25h\u001b[?2026l\u001b[?2026h\u001b[?25l\u001b[1G\u001b[?25h\u001b[?2026l\u001b[?2026h\u001b[?25l\u001b[1G\u001b[?25h\u001b[?2026l\u001b[?2026h\u001b[?25l\u001b[1G\u001b[?25h\u001b[?2026l\u001b[?2026h\u001b[?25l\u001b[1G\u001b[?25h\u001b[?2026l\u001b[?2026h\u001b[?25l\u001b[1G\u001b[?25h\u001b[?2026l\u001b[?2026h\u001b[?25l\u001b[1G\u001b[?25h\u001b[?2026l\u001b[?2026h\u001b[?25l\u001b[1G\u001b[?25h\u001b[?2026l\u001b[?2026h\u001b[?25l\u001b[1G\u001b[?25h\u001b[?2026l\u001b[?2026h\u001b[?25l\u001b[1G\u001b[?25h\u001b[?2026l\u001b[?2026h\u001b[?25l\u001b[1G\u001b[?25h\u001b[?2026l\u001b[?2026h\u001b[?25l\u001b[1G\u001b[?25h\u001b[?2026l\u001b[?2026h\u001b[?25l\u001b[1G\u001b[?25h\u001b[?2026l\u001b[?2026h\u001b[?25l\u001b[1G\u001b[?25h\u001b[?2026l\u001b[?2026h\u001b[?25l\u001b[1G\u001b[?25h\u001b[?2026l\u001b[?2026h\u001b[?25l\u001b[1G\u001b[?25h\u001b[?2026l\u001b[?2026h\u001b[?25l\u001b[1G\u001b[?25h\u001b[?2026l\u001b[?2026h\u001b[?25l\u001b[1G\u001b[?25h\u001b[?2026l\u001b[?2026h\u001b[?25l\u001b[1G\u001b[?25h\u001b[?2026l\u001b[?2026h\u001b[?25l\u001b[1G\u001b[?25h\u001b[?2026l\u001b[?2026h\u001b[?25l\u001b[1G\u001b[?25h\u001b[?2026l\u001b[?2026h\u001b[?25l\u001b[1G\u001b[?25h\u001b[?2026l\u001b[?2026h\u001b[?25l\u001b[1G\u001b[?25h\u001b[?2026l\u001b[?2026h\u001b[?25l\u001b[1G\u001b[?25h\u001b[?2026l\u001b[?2026h\u001b[?25l\u001b[1G\u001b[?25h\u001b[?2026l\u001b[?2026h\u001b[?25l\u001b[1G\u001b[?25h\u001b[?2026l\u001b[?2026h\u001b[?25l\u001b[1G\u001b[?25h\u001b[?2026l\u001b[?2026h\u001b[?25l\u001b[1G\u001b[?25h\u001b[?2026l\u001b[?2026h\u001b[?25l\u001b[1G\u001b[?25h\u001b[?2026l\u001b[?2026h\u001b[?25l\u001b[1G\u001b[?25h\u001b[?2026l\u001b[?2026h\u001b[?25l\u001b[1G\u001b[?25h\u001b[?2026l\u001b[?2026h\u001b[?25l\u001b[1G\u001b[?25h\u001b[?2026l\u001b[?25l\u001b[?2026h\u001b[?25l\u001b[1G\u001b[?25h\u001b[?2026l\u001b[2K\u001b[1G\u001b[?25hSalut\u001b[?25l\u001b[?25h !\u001b[?25l\u001b[?25h \u001b[?25l\u001b[?25h🤖\u001b[?25l\u001b[?25h  \u001b[?25l\u001b[?25hTu\u001b[?25l\u001b[?25h veux\u001b[?25l\u001b[?25h connaître\u001b[?25l\u001b[?25h les\u001b[?25l\u001b[?25h at\u001b[?25l\u001b[?25houts\u001b[?25l\u001b[?25h de\u001b[?25l\u001b[?25h Y\u001b[?25l\u001b[?25hOLO\u001b[?25l\u001b[?25hv\u001b[?25l\u001b[?25h5\u001b[?25l\u001b[?25h,\u001b[?25l\u001b[?25h un\u001b[?25l\u001b[?25h modèle\u001b[?25l\u001b[?25h de\u001b[?25l\u001b[?25h dé\u001b[?25l\u001b[?25htection\u001b[?25l\u001b[?25h d\u001b[?25l\u001b[?25h'\u001b[?25l\u001b[?25hobjets\u001b[?25l\u001b[?25h puissant\u001b[?25l\u001b[?25h et\u001b[?25l\u001b[?25h poly\u001b[?25l\u001b[?25hvalent\u001b[?25l\u001b[?25h ?\u001b[?25l\u001b[?25h Excellent\u001b[?25l\u001b[?25h !\u001b[?25l\u001b[?25h Je\u001b[?25l\u001b[?25h te\u001b[?25l\u001b[?25h propose\u001b[?25l\u001b[?25h une\u001b[?25l\u001b[?25h analyse\u001b[?25l\u001b[?25h des\u001b[?25l\u001b[?25h points\u001b[?25l\u001b[?25h forts\u001b[?25l\u001b[?25h qui\u001b[?25l\u001b[?25h le\u001b[?25l\u001b[?25h distingu\u001b[?25l\u001b[?25hent\u001b[?25l\u001b[?25h des\u001b[?25l\u001b[?25h autres\u001b[?25l\u001b[?25h :\u001b[?25l\u001b[?25h\n",
            "\n",
            "\u001b[?25l\u001b[?25h**\u001b[?25l\u001b[?25h1\u001b[?25l\u001b[?25h.\u001b[?25l\u001b[?25h Excell\u001b[?25l\u001b[?25hente\u001b[?25l\u001b[?25h Performance\u001b[?25l\u001b[?25h:**\u001b[?25l\u001b[?25h\n",
            "\n",
            "\u001b[?25l\u001b[?25h-\u001b[?25l\u001b[?25h **\u001b[?25l\u001b[?25hDé\u001b[?25l\u001b[?25htection\u001b[?25l\u001b[?25h rapide\u001b[?25l\u001b[?25h:**\u001b[?25l\u001b[?25h Y\u001b[?25l\u001b[?25hOLO\u001b[?25l\u001b[?25hv\u001b[?25l\u001b[?25h5\u001b[?25l\u001b[?25h est\u001b[?25l\u001b[?25h connu\u001b[?25l\u001b[?25h pour\u001b[?25l\u001b[?25h sa\u001b[?25l\u001b[?25h vitesse\u001b[?25l\u001b[?25h incroyable\u001b[?25l\u001b[?25h.\u001b[?25l\u001b[?25h Il\u001b[?25l\u001b[?25h peut\u001b[?25l\u001b[?25h identifier\u001b[?25l\u001b[?25h des\u001b[?25l\u001b[?25h objets\u001b[?25l\u001b[?25h dans\u001b[?25l\u001b[?25h des\u001b[?25l\u001b[?25h images\u001b[?25l\u001b[?25h ou\u001b[?25l\u001b[?25h vidéos\u001b[?25l\u001b[?25h en\u001b[?25l\u001b[?25h temps\u001b[?25l\u001b[?25h réel\u001b[?25l\u001b[?25h,\u001b[?25l\u001b[?25h ce\u001b[?25l\u001b[?25h qui\u001b[?25l\u001b[?25h est\u001b[?25l\u001b[?25h crucial\u001b[?25l\u001b[?25h pour\u001b[?25l\u001b[?25h de\u001b[?25l\u001b[?25h nombreux\u001b[?25l\u001b[?25h applications\u001b[?25l\u001b[?25h comme\u001b[?25l\u001b[?25h la\u001b[?25l\u001b[?25h surveillance\u001b[?25l\u001b[?25h et\u001b[?25l\u001b[?25h la\u001b[?25l\u001b[?25h robo\u001b[?25l\u001b[?25htique\u001b[?25l\u001b[?25h.\u001b[?25l\u001b[?25h \u001b[?25l\u001b[?25h\n",
            "\u001b[?25l\u001b[?25h-\u001b[?25l\u001b[?25h **\u001b[?25l\u001b[?25hPerformances\u001b[?25l\u001b[?25h élevées\u001b[?25l\u001b[?25h:**\u001b[?25l\u001b[?25h Y\u001b[?25l\u001b[?25hOLO\u001b[?25l\u001b[?25hv\u001b[?25l\u001b[?25h5\u001b[?25l\u001b[?25h offre\u001b[?25l\u001b[?25h des\u001b[?25l\u001b[?25h performances\u001b[?25l\u001b[?25h compar\u001b[?25l\u001b[?25hables\u001b[?25l\u001b[?25h à\u001b[?25l\u001b[?25h d\u001b[?25l\u001b[?25h'\u001b[?25l\u001b[?25hautres\u001b[?25l\u001b[?25h modèles\u001b[?25l\u001b[?25h de\u001b[?25l\u001b[?25h dé\u001b[?25l\u001b[?25htection\u001b[?25l\u001b[?25h d\u001b[?25l\u001b[?25h'\u001b[?25l\u001b[?25hobjets\u001b[?25l\u001b[?25h avan\u001b[?25l\u001b[?25hcés\u001b[?25l\u001b[?25h comme\u001b[?25l\u001b[?25h Faster\u001b[?25l\u001b[?25h R\u001b[?25l\u001b[?25h-\u001b[?25l\u001b[?25hCNN\u001b[?25l\u001b[?25h,\u001b[?25l\u001b[?25h tout\u001b[?25l\u001b[?25h en\u001b[?25l\u001b[?25h étant\u001b[?25l\u001b[?25h plus\u001b[?25l\u001b[?25h simple\u001b[?25l\u001b[?25h et\u001b[?25l\u001b[?25h moins\u001b[?25l\u001b[?25h gourmand\u001b[?25l\u001b[?25h en\u001b[?25l\u001b[?25h ressources\u001b[?25l\u001b[?25h.\u001b[?25l\u001b[?25h\n",
            "\u001b[?25l\u001b[?25h-\u001b[?25l\u001b[?25h **\u001b[?25l\u001b[?25hPré\u001b[?25l\u001b[?25hcision\u001b[?25l\u001b[?25h élevée\u001b[?25l\u001b[?25h :\u001b[?25l\u001b[?25h**\u001b[?25l\u001b[?25h  \u001b[?25l\u001b[?25hY\u001b[?25l\u001b[?25hOLO\u001b[?25l\u001b[?25hv\u001b[?25l\u001b[?25h5\u001b[?25l\u001b[?25h est\u001b[?25l\u001b[?25h capable\u001b[?25l\u001b[?25h de\u001b[?25l\u001b[?25h détect\u001b[?25l\u001b[?25her\u001b[?25l\u001b[?25h les\u001b[?25l\u001b[?25h objets\u001b[?25l\u001b[?25h dans\u001b[?25l\u001b[?25h des\u001b[?25l\u001b[?25h images\u001b[?25l\u001b[?25h complexes\u001b[?25l\u001b[?25h avec\u001b[?25l\u001b[?25h une\u001b[?25l\u001b[?25h précision\u001b[?25l\u001b[?25h remarquable\u001b[?25l\u001b[?25h.\u001b[?25l\u001b[?25h\n",
            "\n",
            "\u001b[?25l\u001b[?25h**\u001b[?25l\u001b[?25h2\u001b[?25l\u001b[?25h.\u001b[?25l\u001b[?25h Flex\u001b[?25l\u001b[?25hibilité\u001b[?25l\u001b[?25h &\u001b[?25l\u001b[?25h Modular\u001b[?25l\u001b[?25hité\u001b[?25l\u001b[?25h:**\u001b[?25l\u001b[?25h\n",
            "\n",
            "\u001b[?25l\u001b[?25h-\u001b[?25l\u001b[?25h **\u001b[?25l\u001b[?25hCustom\u001b[?25l\u001b[?25hisation\u001b[?25l\u001b[?25h:**\u001b[?25l\u001b[?25h Y\u001b[?25l\u001b[?25hOLO\u001b[?25l\u001b[?25hv\u001b[?25l\u001b[?25h5\u001b[?25l\u001b[?25h offre\u001b[?25l\u001b[?25h une\u001b[?25l\u001b[?25h grande\u001b[?25l\u001b[?25h flex\u001b[?25l\u001b[?25hibilité\u001b[?25l\u001b[?25h grâce\u001b[?25l\u001b[?25h à\u001b[?25l\u001b[?25h sa\u001b[?25l\u001b[?25h structure\u001b[?25l\u001b[?25h mod\u001b[?25l\u001b[?25hulaire\u001b[?25l\u001b[?25h.\u001b[?25l\u001b[?25h Tu\u001b[?25l\u001b[?25h peux\u001b[?25l\u001b[?25h l\u001b[?25l\u001b[?25h'\u001b[?25l\u001b[?25hadapter\u001b[?25l\u001b[?25h à\u001b[?25l\u001b[?25h des\u001b[?25l\u001b[?25h cas\u001b[?25l\u001b[?25h d\u001b[?25l\u001b[?25h’\u001b[?25l\u001b[?25husage\u001b[?25l\u001b[?25h variés\u001b[?25l\u001b[?25h,\u001b[?25l\u001b[?25h en\u001b[?25l\u001b[?25h modif\u001b[?25l\u001b[?25hiant\u001b[?25l\u001b[?25h les\u001b[?25l\u001b[?25h hyper\u001b[?25l\u001b[?25hparam\u001b[?25l\u001b[?25hètres\u001b[?25l\u001b[?25h ou\u001b[?25l\u001b[?25h en\u001b[?25l\u001b[?25h ajout\u001b[?25l\u001b[?25hant\u001b[?25l\u001b[?25h de\u001b[?25l\u001b[?25h nouvelles\u001b[?25l\u001b[?25h fonctionnalités\u001b[?25l\u001b[?25h.\u001b[?25l\u001b[?25h \u001b[?25l\u001b[?25h\n",
            "\u001b[?25l\u001b[?25h-\u001b[?25l\u001b[?25h **\u001b[?25l\u001b[?25hFac\u001b[?25l\u001b[?25hilité\u001b[?25l\u001b[?25h d\u001b[?25l\u001b[?25h'\u001b[?25l\u001b[?25hutilisation\u001b[?25l\u001b[?25h :\u001b[?25l\u001b[?25h**\u001b[?25l\u001b[?25h Y\u001b[?25l\u001b[?25hOLO\u001b[?25l\u001b[?25hv\u001b[?25l\u001b[?25h5\u001b[?25l\u001b[?25h est\u001b[?25l\u001b[?25h facile\u001b[?25l\u001b[?25h à\u001b[?25l\u001b[?25h imp\u001b[?25l\u001b[?25hlé\u001b[?25l\u001b[?25hmenter\u001b[?25l\u001b[?25h et\u001b[?25l\u001b[?25h à\u001b[?25l\u001b[?25h utiliser\u001b[?25l\u001b[?25h grâce\u001b[?25l\u001b[?25h à\u001b[?25l\u001b[?25h sa\u001b[?25l\u001b[?25h documentation\u001b[?25l\u001b[?25h complète\u001b[?25l\u001b[?25h,\u001b[?25l\u001b[?25h son\u001b[?25l\u001b[?25h code\u001b[?25l\u001b[?25h open\u001b[?25l\u001b[?25h source\u001b[?25l\u001b[?25h et\u001b[?25l\u001b[?25h ses\u001b[?25l\u001b[?25h outils\u001b[?25l\u001b[?25h de\u001b[?25l\u001b[?25h déplo\u001b[?25l\u001b[?25hiement\u001b[?25l\u001b[?25h.\u001b[?25l\u001b[?25h\n",
            "\n",
            "\u001b[?25l\u001b[?25h**\u001b[?25l\u001b[?25h3\u001b[?25l\u001b[?25h.\u001b[?25l\u001b[?25h  \u001b[?25l\u001b[?25hUn\u001b[?25l\u001b[?25h modèle\u001b[?25l\u001b[?25h robuste\u001b[?25l\u001b[?25h:**\u001b[?25l\u001b[?25h\n",
            "\n",
            "\u001b[?25l\u001b[?25h-\u001b[?25l\u001b[?25h **\u001b[?25l\u001b[?25hPré\u001b[?25l\u001b[?25hdiction\u001b[?25l\u001b[?25h des\u001b[?25l\u001b[?25h probab\u001b[?25l\u001b[?25hilités\u001b[?25l\u001b[?25h:**\u001b[?25l\u001b[?25h  \u001b[?25l\u001b[?25hY\u001b[?25l\u001b[?25hOLO\u001b[?25l\u001b[?25hv\u001b[?25l\u001b[?25h5\u001b[?25l\u001b[?25h offre\u001b[?25l\u001b[?25h une\u001b[?25l\u001b[?25h estimation\u001b[?25l\u001b[?25h des\u001b[?25l\u001b[?25h probab\u001b[?25l\u001b[?25hilités\u001b[?25l\u001b[?25h d\u001b[?25l\u001b[?25h'\u001b[?25l\u001b[?25happarition\u001b[?25l\u001b[?25h des\u001b[?25l\u001b[?25h objets\u001b[?25l\u001b[?25h dans\u001b[?25l\u001b[?25h les\u001b[?25l\u001b[?25h images\u001b[?25l\u001b[?25h.\u001b[?25l\u001b[?25h \u001b[?25l\u001b[?25h\n",
            "\u001b[?25l\u001b[?25h-\u001b[?25l\u001b[?25h **\u001b[?25l\u001b[?25hExp\u001b[?25l\u001b[?25hlication\u001b[?25l\u001b[?25h des\u001b[?25l\u001b[?25h résultats\u001b[?25l\u001b[?25h :\u001b[?25l\u001b[?25h**\u001b[?25l\u001b[?25h Y\u001b[?25l\u001b[?25hOLO\u001b[?25l\u001b[?25hv\u001b[?25l\u001b[?25h5\u001b[?25l\u001b[?25h fournit\u001b[?25l\u001b[?25h des\u001b[?25l\u001b[?25h informations\u001b[?25l\u001b[?25h cla\u001b[?25l\u001b[?25hires\u001b[?25l\u001b[?25h sur\u001b[?25l\u001b[?25h la\u001b[?25l\u001b[?25h position\u001b[?25l\u001b[?25h,\u001b[?25l\u001b[?25h l\u001b[?25l\u001b[?25h'\u001b[?25l\u001b[?25hangle\u001b[?25l\u001b[?25h et\u001b[?25l\u001b[?25h la\u001b[?25l\u001b[?25h taille\u001b[?25l\u001b[?25h de\u001b[?25l\u001b[?25h chaque\u001b[?25l\u001b[?25h objet\u001b[?25l\u001b[?25h détect\u001b[?25l\u001b[?25hé\u001b[?25l\u001b[?25h,\u001b[?25l\u001b[?25h ce\u001b[?25l\u001b[?25h qui\u001b[?25l\u001b[?25h facilite\u001b[?25l\u001b[?25h l\u001b[?25l\u001b[?25h'\u001b[?25l\u001b[?25hanalyse\u001b[?25l\u001b[?25h et\u001b[?25l\u001b[?25h le\u001b[?25l\u001b[?25h développement\u001b[?25l\u001b[?25h.\u001b[?25l\u001b[?25h\n",
            "\n",
            "\u001b[?25l\u001b[?25h**\u001b[?25l\u001b[?25h4\u001b[?25l\u001b[?25h.\u001b[?25l\u001b[?25h  \u001b[?25l\u001b[?25hUn\u001b[?25l\u001b[?25h outil\u001b[?25l\u001b[?25h de\u001b[?25l\u001b[?25h recherche\u001b[?25l\u001b[?25h:**\u001b[?25l\u001b[?25h\n",
            "\n",
            "\u001b[?25l\u001b[?25h-\u001b[?25l\u001b[?25h **\u001b[?25l\u001b[?25hOpen\u001b[?25l\u001b[?25h source\u001b[?25l\u001b[?25h et\u001b[?25l\u001b[?25h commun\u001b[?25l\u001b[?25hitaire\u001b[?25l\u001b[?25h :\u001b[?25l\u001b[?25h**\u001b[?25l\u001b[?25h   \u001b[?25l\u001b[?25hY\u001b[?25l\u001b[?25hOLO\u001b[?25l\u001b[?25hv\u001b[?25l\u001b[?25h5\u001b[?25l\u001b[?25h est\u001b[?25l\u001b[?25h développé\u001b[?25l\u001b[?25h active\u001b[?25l\u001b[?25hment\u001b[?25l\u001b[?25h par\u001b[?25l\u001b[?25h une\u001b[?25l\u001b[?25h communauté\u001b[?25l\u001b[?25h enthousi\u001b[?25l\u001b[?25haste\u001b[?25l\u001b[?25h et\u001b[?25l\u001b[?25h engage\u001b[?25l\u001b[?25hante\u001b[?25l\u001b[?25h.\u001b[?25l\u001b[?25h Tu\u001b[?25l\u001b[?25h peux\u001b[?25l\u001b[?25h y\u001b[?25l\u001b[?25h accéder\u001b[?25l\u001b[?25h facilement\u001b[?25l\u001b[?25h et\u001b[?25l\u001b[?25h contribuer\u001b[?25l\u001b[?25h au\u001b[?25l\u001b[?25h développement\u001b[?25l\u001b[?25h du\u001b[?25l\u001b[?25h modèle\u001b[?25l\u001b[?25h.\u001b[?25l\u001b[?25h\n",
            "\u001b[?25l\u001b[?25h-\u001b[?25l\u001b[?25h **\u001b[?25l\u001b[?25hDocumentation\u001b[?25l\u001b[?25h complète\u001b[?25l\u001b[?25h et\u001b[?25l\u001b[?25h exemples\u001b[?25l\u001b[?25h d\u001b[?25l\u001b[?25h’\u001b[?25l\u001b[?25hutilisation\u001b[?25l\u001b[?25h :\u001b[?25l\u001b[?25h**\u001b[?25l\u001b[?25h Y\u001b[?25l\u001b[?25hOLO\u001b[?25l\u001b[?25hv\u001b[?25l\u001b[?25h5\u001b[?25l\u001b[?25h dispose\u001b[?25l\u001b[?25h d\u001b[?25l\u001b[?25h'\u001b[?25l\u001b[?25hune\u001b[?25l\u001b[?25h documentation\u001b[?25l\u001b[?25h exhaustive\u001b[?25l\u001b[?25h qui\u001b[?25l\u001b[?25h te\u001b[?25l\u001b[?25h guider\u001b[?25l\u001b[?25ha\u001b[?25l\u001b[?25h dans\u001b[?25l\u001b[?25h le\u001b[?25l\u001b[?25h processus\u001b[?25l\u001b[?25h de\u001b[?25l\u001b[?25h création\u001b[?25l\u001b[?25h,\u001b[?25l\u001b[?25h d\u001b[?25l\u001b[?25h'\u001b[?25l\u001b[?25hadaptation\u001b[?25l\u001b[?25h et\u001b[?25l\u001b[?25h d\u001b[?25l\u001b[?25h'\u001b[?25l\u001b[?25hoptimis\u001b[?25l\u001b[?25hation\u001b[?25l\u001b[?25h de\u001b[?25l\u001b[?25h l\u001b[?25l\u001b[?25h'\u001b[?25l\u001b[?25halg\u001b[?25l\u001b[?25horith\u001b[?25l\u001b[?25hme\u001b[?25l\u001b[?25h.\u001b[?25l\u001b[?25h\n",
            "\n",
            "\u001b[?25l\u001b[?25h**\u001b[?25l\u001b[?25hEn\u001b[?25l\u001b[?25h résumé\u001b[?25l\u001b[?25h:**\u001b[?25l\u001b[?25h  \u001b[?25l\u001b[?25hY\u001b[?25l\u001b[?25hOLO\u001b[?25l\u001b[?25hv\u001b[?25l\u001b[?25h5\u001b[?25l\u001b[?25h combine\u001b[?25l\u001b[?25h performance\u001b[?25l\u001b[?25h,\u001b[?25l\u001b[?25h flex\u001b[?25l\u001b[?25hibilité\u001b[?25l\u001b[?25h et\u001b[?25l\u001b[?25h robust\u001b[?25l\u001b[?25hesse\u001b[?25l\u001b[?25h pour\u001b[?25l\u001b[?25h offrir\u001b[?25l\u001b[?25h une\u001b[?25l\u001b[?25h solution\u001b[?25l\u001b[?25h perform\u001b[?25l\u001b[?25hante\u001b[?25l\u001b[?25h pour\u001b[?25l\u001b[?25h la\u001b[?25l\u001b[?25h dé\u001b[?25l\u001b[?25htection\u001b[?25l\u001b[?25h d\u001b[?25l\u001b[?25h'\u001b[?25l\u001b[?25hobjets\u001b[?25l\u001b[?25h.\u001b[?25l\u001b[?25h Si\u001b[?25l\u001b[?25h tu\u001b[?25l\u001b[?25h cher\u001b[?25l\u001b[?25hches\u001b[?25l\u001b[?25h un\u001b[?25l\u001b[?25h modèle\u001b[?25l\u001b[?25h efficace\u001b[?25l\u001b[?25h et\u001b[?25l\u001b[?25h facile\u001b[?25l\u001b[?25h à\u001b[?25l\u001b[?25h utiliser\u001b[?25l\u001b[?25h,\u001b[?25l\u001b[?25h Y\u001b[?25l\u001b[?25hOLO\u001b[?25l\u001b[?25hv\u001b[?25l\u001b[?25h5\u001b[?25l\u001b[?25h est\u001b[?25l\u001b[?25h une\u001b[?25l\u001b[?25h excellente\u001b[?25l\u001b[?25h option\u001b[?25l\u001b[?25h !\u001b[?25l\u001b[?25h \u001b[?25l\u001b[?25h\n",
            "\n",
            "\n",
            "\u001b[?25l\u001b[?25h**\u001b[?25l\u001b[?25hN\u001b[?25l\u001b[?25h'\u001b[?25l\u001b[?25hhésite\u001b[?25l\u001b[?25h pas\u001b[?25l\u001b[?25h à\u001b[?25l\u001b[?25h me\u001b[?25l\u001b[?25h poser\u001b[?25l\u001b[?25h des\u001b[?25l\u001b[?25h questions\u001b[?25l\u001b[?25h si\u001b[?25l\u001b[?25h tu\u001b[?25l\u001b[?25h as\u001b[?25l\u001b[?25h besoin\u001b[?25l\u001b[?25h de\u001b[?25l\u001b[?25h détails\u001b[?25l\u001b[?25h sur\u001b[?25l\u001b[?25h certains\u001b[?25l\u001b[?25h points\u001b[?25l\u001b[?25h ou\u001b[?25l\u001b[?25h si\u001b[?25l\u001b[?25h tu\u001b[?25l\u001b[?25h veux\u001b[?25l\u001b[?25h en\u001b[?25l\u001b[?25h savoir\u001b[?25l\u001b[?25h plus\u001b[?25l\u001b[?25h sur\u001b[?25l\u001b[?25h l\u001b[?25l\u001b[?25h'\u001b[?25l\u001b[?25halg\u001b[?25l\u001b[?25horith\u001b[?25l\u001b[?25hme\u001b[?25l\u001b[?25h ou\u001b[?25l\u001b[?25h son\u001b[?25l\u001b[?25h utilisation\u001b[?25l\u001b[?25h.**\u001b[?25l\u001b[?25h  \u001b[?25l\u001b[?25h😉\u001b[?25l\u001b[?25h  \u001b[?25l\u001b[?25h\n",
            "\u001b[?25l\u001b[?25h\n",
            "\n",
            "\u001b[?25l\u001b[?25h"
          ]
        }
      ],
      "source": [
        "# Pose ta première question à ton assistant personnel !\n",
        "!ollama run mon-assistant-ia \"Salut ! Présente-toi et dis-moi quelle est ta spécialité\"\n",
        "\n",
        "# Test avec une question technique\n",
        "!ollama run mon-assistant-ia \"Quels sont les avantages de YOLOv5 par rapport aux autres modèles de détection ?\""
      ]
    },
    {
      "cell_type": "code",
      "execution_count": null,
      "metadata": {
        "colab": {
          "base_uri": "https://localhost:8080/"
        },
        "collapsed": true,
        "id": "Jbbl3fo6L7Tz",
        "outputId": "137181d5-a7e1-4385-d10b-2c68850c21a4"
      },
      "outputs": [
        {
          "name": "stdout",
          "output_type": "stream",
          "text": [
            "\u001b[?2026h\u001b[?25l\u001b[1G\u001b[?25h\u001b[?2026l\u001b[?2026h\u001b[?25l\u001b[1G\u001b[?25h\u001b[?2026l\u001b[?2026h\u001b[?25l\u001b[1G\u001b[?25h\u001b[?2026l\u001b[?2026h\u001b[?25l\u001b[1G\u001b[?25h\u001b[?2026l\u001b[?2026h\u001b[?25l\u001b[1G\u001b[?25h\u001b[?2026l\u001b[?2026h\u001b[?25l\u001b[1G\u001b[?25h\u001b[?2026l\u001b[?2026h\u001b[?25l\u001b[1G\u001b[?25h\u001b[?2026l\u001b[?2026h\u001b[?25l\u001b[1G\u001b[?25h\u001b[?2026l\u001b[?2026h\u001b[?25l\u001b[1G\u001b[?25h\u001b[?2026l\u001b[?2026h\u001b[?25l\u001b[1G\u001b[?25h\u001b[?2026l\u001b[?2026h\u001b[?25l\u001b[1G\u001b[?25h\u001b[?2026l\u001b[?2026h\u001b[?25l\u001b[1G\u001b[?25h\u001b[?2026l\u001b[?2026h\u001b[?25l\u001b[1G\u001b[?25h\u001b[?2026l\u001b[?2026h\u001b[?25l\u001b[1G\u001b[?25h\u001b[?2026l\u001b[?2026h\u001b[?25l\u001b[1G\u001b[?25h\u001b[?2026l\u001b[?2026h\u001b[?25l\u001b[1G\u001b[?25h\u001b[?2026l\u001b[?2026h\u001b[?25l\u001b[1G\u001b[?25h\u001b[?2026l\u001b[?2026h\u001b[?25l\u001b[1G\u001b[?25h\u001b[?2026l\u001b[?2026h\u001b[?25l\u001b[1G\u001b[?25h\u001b[?2026l\u001b[?2026h\u001b[?25l\u001b[1G\u001b[?25h\u001b[?2026l\u001b[?2026h\u001b[?25l\u001b[1G\u001b[?25h\u001b[?2026l\u001b[?2026h\u001b[?25l\u001b[1G\u001b[?25h\u001b[?2026l\u001b[?2026h\u001b[?25l\u001b[1G\u001b[?25h\u001b[?2026l\u001b[?25l\u001b[?2026h\u001b[?25l\u001b[1G\u001b[?25h\u001b[?2026l\u001b[2K\u001b[1G\u001b[?25hImagine\u001b[?25l\u001b[?25hz\u001b[?25l\u001b[?25h un\u001b[?25l\u001b[?25h jeu\u001b[?25l\u001b[?25h de\u001b[?25l\u001b[?25h cartes\u001b[?25l\u001b[?25h où\u001b[?25l\u001b[?25h chaque\u001b[?25l\u001b[?25h carte\u001b[?25l\u001b[?25h représente\u001b[?25l\u001b[?25h une\u001b[?25l\u001b[?25h information\u001b[?25l\u001b[?25h ou\u001b[?25l\u001b[?25h une\u001b[?25l\u001b[?25h action\u001b[?25l\u001b[?25h.\u001b[?25l\u001b[?25h Un\u001b[?25l\u001b[?25h alg\u001b[?25l\u001b[?25horith\u001b[?25l\u001b[?25hme\u001b[?25l\u001b[?25h est\u001b[?25l\u001b[?25h comme\u001b[?25l\u001b[?25h un\u001b[?25l\u001b[?25h ensemble\u001b[?25l\u001b[?25h d\u001b[?25l\u001b[?25h'\u001b[?25l\u001b[?25hinstructions\u001b[?25l\u001b[?25h pré\u001b[?25l\u001b[?25hcises\u001b[?25l\u001b[?25h que\u001b[?25l\u001b[?25h l\u001b[?25l\u001b[?25h'\u001b[?25l\u001b[?25hon\u001b[?25l\u001b[?25h peut\u001b[?25l\u001b[?25h suivre\u001b[?25l\u001b[?25h pour\u001b[?25l\u001b[?25h jouer\u001b[?25l\u001b[?25h à\u001b[?25l\u001b[?25h ce\u001b[?25l\u001b[?25h jeu\u001b[?25l\u001b[?25h,\u001b[?25l\u001b[?25h pour\u001b[?25l\u001b[?25h obtenir\u001b[?25l\u001b[?25h le\u001b[?25l\u001b[?25h meilleur\u001b[?25l\u001b[?25h résultat\u001b[?25l\u001b[?25h possible\u001b[?25l\u001b[?25h.\u001b[?25l\u001b[?25h \u001b[?25l\u001b[?25h\n",
            "\n",
            "\u001b[?25l\u001b[?25hEn\u001b[?25l\u001b[?25h termes\u001b[?25l\u001b[?25h simples\u001b[?25l\u001b[?25h :\u001b[?25l\u001b[?25h\n",
            "\n",
            "\u001b[?25l\u001b[?25h**\u001b[?25l\u001b[?25hUn\u001b[?25l\u001b[?25h alg\u001b[?25l\u001b[?25horith\u001b[?25l\u001b[?25hme\u001b[?25l\u001b[?25h est\u001b[?25l\u001b[?25h un\u001b[?25l\u001b[?25h ensemble\u001b[?25l\u001b[?25h de\u001b[?25l\u001b[?25h règles\u001b[?25l\u001b[?25h ou\u001b[?25l\u001b[?25h de\u001b[?25l\u001b[?25h étapes\u001b[?25l\u001b[?25h qui\u001b[?25l\u001b[?25h permettent\u001b[?25l\u001b[?25h à\u001b[?25l\u001b[?25h un\u001b[?25l\u001b[?25h programme\u001b[?25l\u001b[?25h informatique\u001b[?25l\u001b[?25h de\u001b[?25l\u001b[?25h résoudre\u001b[?25l\u001b[?25h un\u001b[?25l\u001b[?25h problème\u001b[?25l\u001b[?25h ou\u001b[?25l\u001b[?25h accomp\u001b[?25l\u001b[?25hlir\u001b[?25l\u001b[?25h une\u001b[?25l\u001b[?25h tâche\u001b[?25l\u001b[?25h spécifique\u001b[?25l\u001b[?25h.**\u001b[?25l\u001b[?25h  \u001b[?25l\u001b[?25h\n",
            "\n",
            "\u001b[?25l\u001b[?25hIl\u001b[?25l\u001b[?25h est\u001b[?25l\u001b[?25h comme\u001b[?25l\u001b[?25h un\u001b[?25l\u001b[?25h guide\u001b[?25l\u001b[?25h qui\u001b[?25l\u001b[?25h indique\u001b[?25l\u001b[?25h étape\u001b[?25l\u001b[?25h par\u001b[?25l\u001b[?25h étape\u001b[?25l\u001b[?25h ce\u001b[?25l\u001b[?25h qu\u001b[?25l\u001b[?25h'\u001b[?25l\u001b[?25hil\u001b[?25l\u001b[?25h faut\u001b[?25l\u001b[?25h faire\u001b[?25l\u001b[?25h pour\u001b[?25l\u001b[?25h atteindre\u001b[?25l\u001b[?25h une\u001b[?25l\u001b[?25h solution\u001b[?25l\u001b[?25h.\u001b[?25l\u001b[?25h Imagine\u001b[?25l\u001b[?25hz\u001b[?25l\u001b[?25h que\u001b[?25l\u001b[?25h vous\u001b[?25l\u001b[?25h voulez\u001b[?25l\u001b[?25h préparer\u001b[?25l\u001b[?25h un\u001b[?25l\u001b[?25h gâteau\u001b[?25l\u001b[?25h.\u001b[?25l\u001b[?25h Vous\u001b[?25l\u001b[?25h avez\u001b[?25l\u001b[?25h l\u001b[?25l\u001b[?25h'\u001b[?25l\u001b[?25halg\u001b[?25l\u001b[?25horith\u001b[?25l\u001b[?25hme\u001b[?25l\u001b[?25h du\u001b[?25l\u001b[?25h recipe\u001b[?25l\u001b[?25h,\u001b[?25l\u001b[?25h il\u001b[?25l\u001b[?25h vous\u001b[?25l\u001b[?25h dit\u001b[?25l\u001b[?25h \"\u001b[?25l\u001b[?25hcho\u001b[?25l\u001b[?25hisir\u001b[?25l\u001b[?25h la\u001b[?25l\u001b[?25h farine\u001b[?25l\u001b[?25h,\u001b[?25l\u001b[?25h le\u001b[?25l\u001b[?25h sucre\u001b[?25l\u001b[?25h,\u001b[?25l\u001b[?25h les\u001b[?25l\u001b[?25h œufs\u001b[?25l\u001b[?25h...\u001b[?25l\u001b[?25h etc\u001b[?25l\u001b[?25h.\"\u001b[?25l\u001b[?25h et\u001b[?25l\u001b[?25h suivre\u001b[?25l\u001b[?25h les\u001b[?25l\u001b[?25h étapes\u001b[?25l\u001b[?25h de\u001b[?25l\u001b[?25h manière\u001b[?25l\u001b[?25h précise\u001b[?25l\u001b[?25h pour\u001b[?25l\u001b[?25h obtenir\u001b[?25l\u001b[?25h le\u001b[?25l\u001b[?25h résultat\u001b[?25l\u001b[?25h final\u001b[?25l\u001b[?25h !\u001b[?25l\u001b[?25h \u001b[?25l\u001b[?25h\n",
            "\n",
            "\u001b[?25l\u001b[?25h**\u001b[?25l\u001b[?25hVoici\u001b[?25l\u001b[?25h quelques\u001b[?25l\u001b[?25h points\u001b[?25l\u001b[?25h importants\u001b[?25l\u001b[?25h à\u001b[?25l\u001b[?25h retenir\u001b[?25l\u001b[?25h:**\u001b[?25l\u001b[?25h\n",
            "\n",
            "\u001b[?25l\u001b[?25h*\u001b[?25l\u001b[?25h **\u001b[?25l\u001b[?25hObjec\u001b[?25l\u001b[?25htif\u001b[?25l\u001b[?25h :\u001b[?25l\u001b[?25h**\u001b[?25l\u001b[?25h  \u001b[?25l\u001b[?25hUn\u001b[?25l\u001b[?25h alg\u001b[?25l\u001b[?25horith\u001b[?25l\u001b[?25hme\u001b[?25l\u001b[?25h a\u001b[?25l\u001b[?25h un\u001b[?25l\u001b[?25h but\u001b[?25l\u001b[?25h précis\u001b[?25l\u001b[?25h.\u001b[?25l\u001b[?25h Il\u001b[?25l\u001b[?25h doit\u001b[?25l\u001b[?25h répondre\u001b[?25l\u001b[?25h à\u001b[?25l\u001b[?25h une\u001b[?25l\u001b[?25h tâche\u001b[?25l\u001b[?25h défin\u001b[?25l\u001b[?25hie\u001b[?25l\u001b[?25h ou\u001b[?25l\u001b[?25h résoudre\u001b[?25l\u001b[?25h un\u001b[?25l\u001b[?25h problème\u001b[?25l\u001b[?25h spécifique\u001b[?25l\u001b[?25h.\u001b[?25l\u001b[?25h\n",
            "\u001b[?25l\u001b[?25h*\u001b[?25l\u001b[?25h **\u001b[?25l\u001b[?25hInstructions\u001b[?25l\u001b[?25h pré\u001b[?25l\u001b[?25hcises\u001b[?25l\u001b[?25h :\u001b[?25l\u001b[?25h**\u001b[?25l\u001b[?25h  \u001b[?25l\u001b[?25hChaque\u001b[?25l\u001b[?25h étape\u001b[?25l\u001b[?25h de\u001b[?25l\u001b[?25h l\u001b[?25l\u001b[?25h'\u001b[?25l\u001b[?25halg\u001b[?25l\u001b[?25horith\u001b[?25l\u001b[?25hme\u001b[?25l\u001b[?25h est\u001b[?25l\u001b[?25h clairement\u001b[?25l\u001b[?25h défin\u001b[?25l\u001b[?25hie\u001b[?25l\u001b[?25h et\u001b[?25l\u001b[?25h précise\u001b[?25l\u001b[?25h pour\u001b[?25l\u001b[?25h éviter\u001b[?25l\u001b[?25h la\u001b[?25l\u001b[?25h confusion\u001b[?25l\u001b[?25h.\u001b[?25l\u001b[?25h\n",
            "\u001b[?25l\u001b[?25h*\u001b[?25l\u001b[?25h **\u001b[?25l\u001b[?25hDé\u001b[?25l\u001b[?25htermin\u001b[?25l\u001b[?25hisme\u001b[?25l\u001b[?25h:**\u001b[?25l\u001b[?25h Un\u001b[?25l\u001b[?25h alg\u001b[?25l\u001b[?25horith\u001b[?25l\u001b[?25hme\u001b[?25l\u001b[?25h ne\u001b[?25l\u001b[?25h peut\u001b[?25l\u001b[?25h pas\u001b[?25l\u001b[?25h prendre\u001b[?25l\u001b[?25h de\u001b[?25l\u001b[?25h décision\u001b[?25l\u001b[?25h alé\u001b[?25l\u001b[?25hatoire\u001b[?25l\u001b[?25h,\u001b[?25l\u001b[?25h il\u001b[?25l\u001b[?25h s\u001b[?25l\u001b[?25h'\u001b[?25l\u001b[?25happ\u001b[?25l\u001b[?25huie\u001b[?25l\u001b[?25h sur\u001b[?25l\u001b[?25h des\u001b[?25l\u001b[?25h données\u001b[?25l\u001b[?25h et\u001b[?25l\u001b[?25h des\u001b[?25l\u001b[?25h règles\u001b[?25l\u001b[?25h pré\u001b[?25l\u001b[?25hé\u001b[?25l\u001b[?25htab\u001b[?25l\u001b[?25hlis\u001b[?25l\u001b[?25h.\u001b[?25l\u001b[?25h\n",
            "\n",
            "\u001b[?25l\u001b[?25h**\u001b[?25l\u001b[?25hL\u001b[?25l\u001b[?25h’\u001b[?25l\u001b[?25hintelligence\u001b[?25l\u001b[?25h artific\u001b[?25l\u001b[?25hielle\u001b[?25l\u001b[?25h (\u001b[?25l\u001b[?25hIA\u001b[?25l\u001b[?25h)\u001b[?25l\u001b[?25h utilise\u001b[?25l\u001b[?25h souvent\u001b[?25l\u001b[?25h des\u001b[?25l\u001b[?25h alg\u001b[?25l\u001b[?25horith\u001b[?25l\u001b[?25hmes\u001b[?25l\u001b[?25h pour\u001b[?25l\u001b[?25h se\u001b[?25l\u001b[?25h perfection\u001b[?25l\u001b[?25hner\u001b[?25l\u001b[?25h.**\u001b[?25l\u001b[?25h \u001b[?25l\u001b[?25h\n",
            "\n",
            "\u001b[?25l\u001b[?25hPar\u001b[?25l\u001b[?25h exemple\u001b[?25l\u001b[?25h,\u001b[?25l\u001b[?25h un\u001b[?25l\u001b[?25h alg\u001b[?25l\u001b[?25horith\u001b[?25l\u001b[?25hme\u001b[?25l\u001b[?25h d\u001b[?25l\u001b[?25h'\u001b[?25l\u001b[?25happrentissage\u001b[?25l\u001b[?25h automatique\u001b[?25l\u001b[?25h pourrait\u001b[?25l\u001b[?25h analyser\u001b[?25l\u001b[?25h une\u001b[?25l\u001b[?25h grande\u001b[?25l\u001b[?25h quantité\u001b[?25l\u001b[?25h de\u001b[?25l\u001b[?25h données\u001b[?25l\u001b[?25h (\u001b[?25l\u001b[?25himages\u001b[?25l\u001b[?25h,\u001b[?25l\u001b[?25h textes\u001b[?25l\u001b[?25h,\u001b[?25l\u001b[?25h etc\u001b[?25l\u001b[?25h.)\u001b[?25l\u001b[?25h pour\u001b[?25l\u001b[?25h identifier\u001b[?25l\u001b[?25h les\u001b[?25l\u001b[?25h motifs\u001b[?25l\u001b[?25h et\u001b[?25l\u001b[?25h les\u001b[?25l\u001b[?25h patterns\u001b[?25l\u001b[?25h et\u001b[?25l\u001b[?25h ainsi\u001b[?25l\u001b[?25h apprendre\u001b[?25l\u001b[?25h à\u001b[?25l\u001b[?25h reconnaître\u001b[?25l\u001b[?25h un\u001b[?25l\u001b[?25h objet\u001b[?25l\u001b[?25h spécifique\u001b[?25l\u001b[?25h.\u001b[?25l\u001b[?25h  \u001b[?25l\u001b[?25h\n",
            "\n",
            "\u001b[?25l\u001b[?25hJ\u001b[?25l\u001b[?25h'\u001b[?25l\u001b[?25hespère\u001b[?25l\u001b[?25h que\u001b[?25l\u001b[?25h cette\u001b[?25l\u001b[?25h explication\u001b[?25l\u001b[?25h simple\u001b[?25l\u001b[?25h vous\u001b[?25l\u001b[?25h a\u001b[?25l\u001b[?25h aidé\u001b[?25l\u001b[?25h à\u001b[?25l\u001b[?25h comprendre\u001b[?25l\u001b[?25h ce\u001b[?25l\u001b[?25h qu\u001b[?25l\u001b[?25h'\u001b[?25l\u001b[?25hest\u001b[?25l\u001b[?25h un\u001b[?25l\u001b[?25h alg\u001b[?25l\u001b[?25horith\u001b[?25l\u001b[?25hme\u001b[?25l\u001b[?25h!\u001b[?25l\u001b[?25h \u001b[?25l\u001b[?25h\n",
            "\n",
            "\n",
            "\u001b[?25l\u001b[?25hN\u001b[?25l\u001b[?25h’\u001b[?25l\u001b[?25hhésitez\u001b[?25l\u001b[?25h pas\u001b[?25l\u001b[?25h si\u001b[?25l\u001b[?25h vous\u001b[?25l\u001b[?25h avez\u001b[?25l\u001b[?25h d\u001b[?25l\u001b[?25h’\u001b[?25l\u001b[?25hautres\u001b[?25l\u001b[?25h questions\u001b[?25l\u001b[?25h !\u001b[?25l\u001b[?25h 😊\u001b[?25l\u001b[?25h\n",
            "\u001b[?25l\u001b[?25h\n",
            "\n",
            "\u001b[?25l\u001b[?25h"
          ]
        }
      ],
      "source": [
        "!ollama run mon-assistant-ia \"Qu'est ce qu'un algorithme\""
      ]
    },
    {
      "cell_type": "code",
      "execution_count": null,
      "metadata": {
        "colab": {
          "base_uri": "https://localhost:8080/"
        },
        "id": "FHJmoLn9MnQM",
        "outputId": "e9bb5824-a110-4d50-de99-d763943bca11"
      },
      "outputs": [
        {
          "name": "stdout",
          "output_type": "stream",
          "text": [
            "\u001b[?2026h\u001b[?25l\u001b[1G\u001b[?25h\u001b[?2026l\u001b[?2026h\u001b[?25l\u001b[1G\u001b[?25h\u001b[?2026l\u001b[?2026h\u001b[?25l\u001b[1G\u001b[?25h\u001b[?2026l\u001b[?2026h\u001b[?25l\u001b[1G\u001b[?25h\u001b[?2026l\u001b[?2026h\u001b[?25l\u001b[1G\u001b[?25h\u001b[?2026l\u001b[?2026h\u001b[?25l\u001b[1G\u001b[?25h\u001b[?2026l\u001b[?2026h\u001b[?25l\u001b[1G\u001b[?25h\u001b[?2026l\u001b[?2026h\u001b[?25l\u001b[1G\u001b[?25h\u001b[?2026l\u001b[?2026h\u001b[?25l\u001b[1G\u001b[?25h\u001b[?2026l\u001b[?2026h\u001b[?25l\u001b[1G\u001b[?25h\u001b[?2026l\u001b[?2026h\u001b[?25l\u001b[1G\u001b[?25h\u001b[?2026l\u001b[?2026h\u001b[?25l\u001b[1G\u001b[?25h\u001b[?2026l\u001b[?2026h\u001b[?25l\u001b[1G\u001b[?25h\u001b[?2026l\u001b[?2026h\u001b[?25l\u001b[1G\u001b[?25h\u001b[?2026l\u001b[?2026h\u001b[?25l\u001b[1G\u001b[?25h\u001b[?2026l\u001b[?2026h\u001b[?25l\u001b[1G\u001b[?25h\u001b[?2026l\u001b[?2026h\u001b[?25l\u001b[1G\u001b[?25h\u001b[?2026l\u001b[?2026h\u001b[?25l\u001b[1G\u001b[?25h\u001b[?2026l\u001b[?2026h\u001b[?25l\u001b[1G\u001b[?25h\u001b[?2026l\u001b[?2026h\u001b[?25l\u001b[1G\u001b[?25h\u001b[?2026l\u001b[?25l\u001b[?2026h\u001b[?25l\u001b[1G\u001b[?25h\u001b[?2026l\u001b[2K\u001b[1G\u001b[?25hLe\u001b[?25l\u001b[?25h président\u001b[?25l\u001b[?25h actuel\u001b[?25l\u001b[?25h du\u001b[?25l\u001b[?25h Burkina\u001b[?25l\u001b[?25h Faso\u001b[?25l\u001b[?25h est\u001b[?25l\u001b[?25h **\u001b[?25l\u001b[?25hIbrahim\u001b[?25l\u001b[?25h Tra\u001b[?25l\u001b[?25horé\u001b[?25l\u001b[?25h**.\u001b[?25l\u001b[?25h Il\u001b[?25l\u001b[?25h a\u001b[?25l\u001b[?25h pris\u001b[?25l\u001b[?25h le\u001b[?25l\u001b[?25h pouvoir\u001b[?25l\u001b[?25h en\u001b[?25l\u001b[?25h une\u001b[?25l\u001b[?25h révolution\u001b[?25l\u001b[?25h militaire\u001b[?25l\u001b[?25h en\u001b[?25l\u001b[?25h février\u001b[?25l\u001b[?25h \u001b[?25l\u001b[?25h2\u001b[?25l\u001b[?25h0\u001b[?25l\u001b[?25h2\u001b[?25l\u001b[?25h2\u001b[?25l\u001b[?25h.\u001b[?25l\u001b[?25h  \u001b[?25l\u001b[?25h\n",
            "\n",
            "\u001b[?25l\u001b[?25hN\u001b[?25l\u001b[?25h'\u001b[?25l\u001b[?25hhésite\u001b[?25l\u001b[?25h pas\u001b[?25l\u001b[?25h à\u001b[?25l\u001b[?25h me\u001b[?25l\u001b[?25h poser\u001b[?25l\u001b[?25h d\u001b[?25l\u001b[?25h'\u001b[?25l\u001b[?25hautres\u001b[?25l\u001b[?25h questions\u001b[?25l\u001b[?25h,\u001b[?25l\u001b[?25h je\u001b[?25l\u001b[?25h suis\u001b[?25l\u001b[?25h là\u001b[?25l\u001b[?25h pour\u001b[?25l\u001b[?25h t\u001b[?25l\u001b[?25h'\u001b[?25l\u001b[?25haider\u001b[?25l\u001b[?25h !\u001b[?25l\u001b[?25h 😊\u001b[?25l\u001b[?25h \u001b[?25l\u001b[?25h\n",
            "\u001b[?25l\u001b[?25h\n",
            "\n",
            "\u001b[?25l\u001b[?25h"
          ]
        }
      ],
      "source": [
        "!ollama run mon-assistant-ia \"Qui est le president actuel du Burkina \""
      ]
    },
    {
      "cell_type": "code",
      "execution_count": null,
      "metadata": {
        "colab": {
          "base_uri": "https://localhost:8080/"
        },
        "id": "emjSnmkENPSn",
        "outputId": "c8476ae7-d80a-4437-bac6-790133924cbb"
      },
      "outputs": [
        {
          "name": "stdout",
          "output_type": "stream",
          "text": [
            "\u001b[?2026h\u001b[?25l\u001b[1G\u001b[?25h\u001b[?2026l\u001b[?2026h\u001b[?25l\u001b[1G\u001b[?25h\u001b[?2026l\u001b[?2026h\u001b[?25l\u001b[1G\u001b[?25h\u001b[?2026l\u001b[?2026h\u001b[?25l\u001b[1G\u001b[?25h\u001b[?2026l\u001b[?2026h\u001b[?25l\u001b[1G\u001b[?25h\u001b[?2026l\u001b[?2026h\u001b[?25l\u001b[1G\u001b[?25h\u001b[?2026l\u001b[?2026h\u001b[?25l\u001b[1G\u001b[?25h\u001b[?2026l\u001b[?2026h\u001b[?25l\u001b[1G\u001b[?25h\u001b[?2026l\u001b[?2026h\u001b[?25l\u001b[1G\u001b[?25h\u001b[?2026l\u001b[?2026h\u001b[?25l\u001b[1G\u001b[?25h\u001b[?2026l\u001b[?2026h\u001b[?25l\u001b[1G\u001b[?25h\u001b[?2026l\u001b[?2026h\u001b[?25l\u001b[1G\u001b[?25h\u001b[?2026l\u001b[?2026h\u001b[?25l\u001b[1G\u001b[?25h\u001b[?2026l\u001b[?2026h\u001b[?25l\u001b[1G\u001b[?25h\u001b[?2026l\u001b[?2026h\u001b[?25l\u001b[1G\u001b[?25h\u001b[?2026l\u001b[?2026h\u001b[?25l\u001b[1G\u001b[?25h\u001b[?2026l\u001b[?2026h\u001b[?25l\u001b[1G\u001b[?25h\u001b[?2026l\u001b[?2026h\u001b[?25l\u001b[1G\u001b[?25h\u001b[?2026l\u001b[?2026h\u001b[?25l\u001b[1G\u001b[?25h\u001b[?2026l\u001b[?2026h\u001b[?25l\u001b[1G\u001b[?25h\u001b[?2026l\u001b[?2026h\u001b[?25l\u001b[1G\u001b[?25h\u001b[?2026l\u001b[?2026h\u001b[?25l\u001b[1G\u001b[?25h\u001b[?2026l\u001b[?2026h\u001b[?25l\u001b[1G\u001b[?25h\u001b[?2026l\u001b[?2026h\u001b[?25l\u001b[1G\u001b[?25h\u001b[?2026l\u001b[?2026h\u001b[?25l\u001b[1G\u001b[?25h\u001b[?2026l\u001b[?2026h\u001b[?25l\u001b[1G\u001b[?25h\u001b[?2026l\u001b[?2026h\u001b[?25l\u001b[1G\u001b[?25h\u001b[?2026l\u001b[?25l\u001b[?2026h\u001b[?25l\u001b[1G\u001b[?25h\u001b[?2026l\u001b[2K\u001b[1G\u001b[?25hC\u001b[?25l\u001b[?25h'\u001b[?25l\u001b[?25hest\u001b[?25l\u001b[?25h formidable\u001b[?25l\u001b[?25h de\u001b[?25l\u001b[?25h vouloir\u001b[?25l\u001b[?25h explorer\u001b[?25l\u001b[?25h le\u001b[?25l\u001b[?25h monde\u001b[?25l\u001b[?25h de\u001b[?25l\u001b[?25h l\u001b[?25l\u001b[?25h'\u001b[?25l\u001b[?25hintelligence\u001b[?25l\u001b[?25h artific\u001b[?25l\u001b[?25hielle\u001b[?25l\u001b[?25h!\u001b[?25l\u001b[?25h La\u001b[?25l\u001b[?25h convolution\u001b[?25l\u001b[?25hnelle\u001b[?25l\u001b[?25h neuron\u001b[?25l\u001b[?25hale\u001b[?25l\u001b[?25h (\u001b[?25l\u001b[?25hCNN\u001b[?25l\u001b[?25h)\u001b[?25l\u001b[?25h est\u001b[?25l\u001b[?25h au\u001b[?25l\u001b[?25h coeur\u001b[?25l\u001b[?25h de\u001b[?25l\u001b[?25h nombreuses\u001b[?25l\u001b[?25h technologies\u001b[?25l\u001b[?25h d\u001b[?25l\u001b[?25h'\u001b[?25l\u001b[?25hIA\u001b[?25l\u001b[?25h,\u001b[?25l\u001b[?25h notamment\u001b[?25l\u001b[?25h pour\u001b[?25l\u001b[?25h la\u001b[?25l\u001b[?25h dé\u001b[?25l\u001b[?25htection\u001b[?25l\u001b[?25h d\u001b[?25l\u001b[?25h'\u001b[?25l\u001b[?25hobjets\u001b[?25l\u001b[?25h.\u001b[?25l\u001b[?25h Voici\u001b[?25l\u001b[?25h une\u001b[?25l\u001b[?25h roadmap\u001b[?25l\u001b[?25h pour\u001b[?25l\u001b[?25h vous\u001b[?25l\u001b[?25h guider\u001b[?25l\u001b[?25h vers\u001b[?25l\u001b[?25h l\u001b[?25l\u001b[?25h'\u001b[?25l\u001b[?25hexpertise\u001b[?25l\u001b[?25h en\u001b[?25l\u001b[?25h CNN\u001b[?25l\u001b[?25h et\u001b[?25l\u001b[?25h IA\u001b[?25l\u001b[?25h :\u001b[?25l\u001b[?25h\n",
            "\n",
            "\u001b[?25l\u001b[?25h**\u001b[?25l\u001b[?25h1\u001b[?25l\u001b[?25h.\u001b[?25l\u001b[?25h  \u001b[?25l\u001b[?25hFond\u001b[?25l\u001b[?25hamenta\u001b[?25l\u001b[?25hux\u001b[?25l\u001b[?25h:**\u001b[?25l\u001b[?25h\n",
            "\n",
            "\u001b[?25l\u001b[?25h*\u001b[?25l\u001b[?25h **\u001b[?25l\u001b[?25hMath\u001b[?25l\u001b[?25hématiques\u001b[?25l\u001b[?25h:**\u001b[?25l\u001b[?25h\n",
            "\u001b[?25l\u001b[?25h    \u001b[?25l\u001b[?25h*\u001b[?25l\u001b[?25h Calcul\u001b[?25l\u001b[?25h diffé\u001b[?25l\u001b[?25hrentiel\u001b[?25l\u001b[?25h et\u001b[?25l\u001b[?25h intégr\u001b[?25l\u001b[?25hatif\u001b[?25l\u001b[?25h:\u001b[?25l\u001b[?25h comprendre\u001b[?25l\u001b[?25h les\u001b[?25l\u001b[?25h concepts\u001b[?25l\u001b[?25h clés\u001b[?25l\u001b[?25h comme\u001b[?25l\u001b[?25h la\u001b[?25l\u001b[?25h déri\u001b[?25l\u001b[?25hvation\u001b[?25l\u001b[?25h,\u001b[?25l\u001b[?25h l\u001b[?25l\u001b[?25h'\u001b[?25l\u001b[?25hintégration\u001b[?25l\u001b[?25h,\u001b[?25l\u001b[?25h le\u001b[?25l\u001b[?25h gradient\u001b[?25l\u001b[?25h,\u001b[?25l\u001b[?25h etc\u001b[?25l\u001b[?25h.\u001b[?25l\u001b[?25h \u001b[?25l\u001b[?25h\n",
            "\u001b[?25l\u001b[?25h    \u001b[?25l\u001b[?25h*\u001b[?25l\u001b[?25h Probab\u001b[?25l\u001b[?25hilités\u001b[?25l\u001b[?25h et\u001b[?25l\u001b[?25h statistiques\u001b[?25l\u001b[?25h:\u001b[?25l\u001b[?25h une\u001b[?25l\u001b[?25h bonne\u001b[?25l\u001b[?25h compréhension\u001b[?25l\u001b[?25h des\u001b[?25l\u001b[?25h probab\u001b[?25l\u001b[?25hilités\u001b[?25l\u001b[?25h et\u001b[?25l\u001b[?25h de\u001b[?25l\u001b[?25h la\u001b[?25l\u001b[?25h statistique\u001b[?25l\u001b[?25h est\u001b[?25l\u001b[?25h essentielle\u001b[?25l\u001b[?25h pour\u001b[?25l\u001b[?25h l\u001b[?25l\u001b[?25h’\u001b[?25l\u001b[?25happrentissage\u001b[?25l\u001b[?25h automatique\u001b[?25l\u001b[?25h.\u001b[?25l\u001b[?25h \u001b[?25l\u001b[?25h\n",
            "\u001b[?25l\u001b[?25h*\u001b[?25l\u001b[?25h **\u001b[?25l\u001b[?25hInform\u001b[?25l\u001b[?25hatique\u001b[?25l\u001b[?25h:**\u001b[?25l\u001b[?25h\n",
            "\u001b[?25l\u001b[?25h    \u001b[?25l\u001b[?25h*\u001b[?25l\u001b[?25h Bases\u001b[?25l\u001b[?25h du\u001b[?25l\u001b[?25h code\u001b[?25l\u001b[?25h:\u001b[?25l\u001b[?25h Python\u001b[?25l\u001b[?25h est\u001b[?25l\u001b[?25h la\u001b[?25l\u001b[?25h langue\u001b[?25l\u001b[?25h privilégi\u001b[?25l\u001b[?25hée\u001b[?25l\u001b[?25h en\u001b[?25l\u001b[?25h IA\u001b[?25l\u001b[?25h.\u001b[?25l\u001b[?25h  \u001b[?25l\u001b[?25hApp\u001b[?25l\u001b[?25hre\u001b[?25l\u001b[?25hnez\u001b[?25l\u001b[?25h les\u001b[?25l\u001b[?25h bases\u001b[?25l\u001b[?25h de\u001b[?25l\u001b[?25h Python\u001b[?25l\u001b[?25h (\u001b[?25l\u001b[?25hstructure\u001b[?25l\u001b[?25h de\u001b[?25l\u001b[?25h données\u001b[?25l\u001b[?25h,\u001b[?25l\u001b[?25h manipulation\u001b[?25l\u001b[?25h de\u001b[?25l\u001b[?25h variables\u001b[?25l\u001b[?25h)\u001b[?25l\u001b[?25h\n",
            "\u001b[?25l\u001b[?25h    \u001b[?25l\u001b[?25h*\u001b[?25l\u001b[?25h Structures\u001b[?25l\u001b[?25h de\u001b[?25l\u001b[?25h données\u001b[?25l\u001b[?25h:\u001b[?25l\u001b[?25h Com\u001b[?25l\u001b[?25hprendre\u001b[?25l\u001b[?25h les\u001b[?25l\u001b[?25h structures\u001b[?25l\u001b[?25h de\u001b[?25l\u001b[?25h données\u001b[?25l\u001b[?25h comme\u001b[?25l\u001b[?25h les\u001b[?25l\u001b[?25h listes\u001b[?25l\u001b[?25h,\u001b[?25l\u001b[?25h les\u001b[?25l\u001b[?25h diction\u001b[?25l\u001b[?25hnaires\u001b[?25l\u001b[?25h,\u001b[?25l\u001b[?25h les\u001b[?25l\u001b[?25h tuples\u001b[?25l\u001b[?25h et\u001b[?25l\u001b[?25h les\u001b[?25l\u001b[?25h arbres\u001b[?25l\u001b[?25h.\u001b[?25l\u001b[?25h \u001b[?25l\u001b[?25h\n",
            "\u001b[?25l\u001b[?25h*\u001b[?25l\u001b[?25h **\u001b[?25l\u001b[?25hIA\u001b[?25l\u001b[?25h:**\u001b[?25l\u001b[?25h\n",
            "\u001b[?25l\u001b[?25h    \u001b[?25l\u001b[?25h*\u001b[?25l\u001b[?25h Introduction\u001b[?25l\u001b[?25h à\u001b[?25l\u001b[?25h l\u001b[?25l\u001b[?25h'\u001b[?25l\u001b[?25hIA\u001b[?25l\u001b[?25h:\u001b[?25l\u001b[?25h App\u001b[?25l\u001b[?25hre\u001b[?25l\u001b[?25hnez\u001b[?25l\u001b[?25h les\u001b[?25l\u001b[?25h concepts\u001b[?25l\u001b[?25h clés\u001b[?25l\u001b[?25h tels\u001b[?25l\u001b[?25h que\u001b[?25l\u001b[?25h les\u001b[?25l\u001b[?25h alg\u001b[?25l\u001b[?25horith\u001b[?25l\u001b[?25hmes\u001b[?25l\u001b[?25h d\u001b[?25l\u001b[?25h’\u001b[?25l\u001b[?25happrentissage\u001b[?25l\u001b[?25h automatique\u001b[?25l\u001b[?25h,\u001b[?25l\u001b[?25h les\u001b[?25l\u001b[?25h réseaux\u001b[?25l\u001b[?25h neuron\u001b[?25l\u001b[?25haux\u001b[?25l\u001b[?25h,\u001b[?25l\u001b[?25h la\u001b[?25l\u001b[?25h classification\u001b[?25l\u001b[?25h,\u001b[?25l\u001b[?25h la\u001b[?25l\u001b[?25h rég\u001b[?25l\u001b[?25hression\u001b[?25l\u001b[?25h,\u001b[?25l\u001b[?25h etc\u001b[?25l\u001b[?25h.\u001b[?25l\u001b[?25h  \u001b[?25l\u001b[?25h\n",
            "\u001b[?25l\u001b[?25h    \u001b[?25l\u001b[?25h*\u001b[?25l\u001b[?25h Les\u001b[?25l\u001b[?25h différents\u001b[?25l\u001b[?25h types\u001b[?25l\u001b[?25h de\u001b[?25l\u001b[?25h données\u001b[?25l\u001b[?25h:\u001b[?25l\u001b[?25h Com\u001b[?25l\u001b[?25hprendre\u001b[?25l\u001b[?25h les\u001b[?25l\u001b[?25h types\u001b[?25l\u001b[?25h de\u001b[?25l\u001b[?25h données\u001b[?25l\u001b[?25h utilisés\u001b[?25l\u001b[?25h en\u001b[?25l\u001b[?25h IA\u001b[?25l\u001b[?25h et\u001b[?25l\u001b[?25h comment\u001b[?25l\u001b[?25h les\u001b[?25l\u001b[?25h préparer\u001b[?25l\u001b[?25h (\u001b[?25l\u001b[?25htexte\u001b[?25l\u001b[?25h,\u001b[?25l\u001b[?25h image\u001b[?25l\u001b[?25h,\u001b[?25l\u001b[?25h audio\u001b[?25l\u001b[?25h).\u001b[?25l\u001b[?25h \u001b[?25l\u001b[?25h\n",
            "\n",
            "\n",
            "\u001b[?25l\u001b[?25h**\u001b[?25l\u001b[?25h2\u001b[?25l\u001b[?25h.\u001b[?25l\u001b[?25h  \u001b[?25l\u001b[?25hDé\u001b[?25l\u001b[?25hcouverte\u001b[?25l\u001b[?25h des\u001b[?25l\u001b[?25h CNN\u001b[?25l\u001b[?25h:**\u001b[?25l\u001b[?25h\n",
            "\n",
            "\u001b[?25l\u001b[?25h*\u001b[?25l\u001b[?25h **\u001b[?25l\u001b[?25hConcepts\u001b[?25l\u001b[?25h clés\u001b[?25l\u001b[?25h:**\u001b[?25l\u001b[?25h\n",
            "\u001b[?25l\u001b[?25h    \u001b[?25l\u001b[?25h*\u001b[?25l\u001b[?25h **\u001b[?25l\u001b[?25hArchitecture\u001b[?25l\u001b[?25h des\u001b[?25l\u001b[?25h CNN\u001b[?25l\u001b[?25h:**\u001b[?25l\u001b[?25h  \u001b[?25l\u001b[?25hCom\u001b[?25l\u001b[?25hpré\u001b[?25l\u001b[?25hhen\u001b[?25l\u001b[?25hdez\u001b[?25l\u001b[?25h la\u001b[?25l\u001b[?25h structure\u001b[?25l\u001b[?25h interne\u001b[?25l\u001b[?25h d\u001b[?25l\u001b[?25h'\u001b[?25l\u001b[?25hune\u001b[?25l\u001b[?25h CNN\u001b[?25l\u001b[?25h avec\u001b[?25l\u001b[?25h ses\u001b[?25l\u001b[?25h couches\u001b[?25l\u001b[?25h de\u001b[?25l\u001b[?25h convolution\u001b[?25l\u001b[?25h,\u001b[?25l\u001b[?25h pooling\u001b[?25l\u001b[?25h,\u001b[?25l\u001b[?25h activation\u001b[?25l\u001b[?25h,\u001b[?25l\u001b[?25h etc\u001b[?25l\u001b[?25h.\u001b[?25l\u001b[?25h\n",
            "\u001b[?25l\u001b[?25h    \u001b[?25l\u001b[?25h*\u001b[?25l\u001b[?25h **\u001b[?25l\u001b[?25hApp\u001b[?25l\u001b[?25hren\u001b[?25l\u001b[?25htissage\u001b[?25l\u001b[?25h par\u001b[?25l\u001b[?25h réseaux\u001b[?25l\u001b[?25h neuron\u001b[?25l\u001b[?25haux\u001b[?25l\u001b[?25h:**\u001b[?25l\u001b[?25h  \u001b[?25l\u001b[?25hExp\u001b[?25l\u001b[?25héri\u001b[?25l\u001b[?25hmente\u001b[?25l\u001b[?25hz\u001b[?25l\u001b[?25h sur\u001b[?25l\u001b[?25h un\u001b[?25l\u001b[?25h réseau\u001b[?25l\u001b[?25h neuronal\u001b[?25l\u001b[?25h simple\u001b[?25l\u001b[?25h (\u001b[?25l\u001b[?25hun\u001b[?25l\u001b[?25h \"\u001b[?25l\u001b[?25hMLP\u001b[?25l\u001b[?25h\")\u001b[?25l\u001b[?25h et\u001b[?25l\u001b[?25h appre\u001b[?25l\u001b[?25hnez\u001b[?25l\u001b[?25h les\u001b[?25l\u001b[?25h concepts\u001b[?25l\u001b[?25h de\u001b[?25l\u001b[?25h gradients\u001b[?25l\u001b[?25h et\u001b[?25l\u001b[?25h d\u001b[?25l\u001b[?25h’\u001b[?25l\u001b[?25hoptimis\u001b[?25l\u001b[?25hation\u001b[?25l\u001b[?25h pour\u001b[?25l\u001b[?25h l\u001b[?25l\u001b[?25h'\u001b[?25l\u001b[?25happrentissage\u001b[?25l\u001b[?25h automatique\u001b[?25l\u001b[?25h.\u001b[?25l\u001b[?25h \u001b[?25l\u001b[?25h\n",
            "\u001b[?25l\u001b[?25h*\u001b[?25l\u001b[?25h **\u001b[?25l\u001b[?25hEx\u001b[?25l\u001b[?25herc\u001b[?25l\u001b[?25hices\u001b[?25l\u001b[?25h pratiques\u001b[?25l\u001b[?25h:**\u001b[?25l\u001b[?25h\n",
            "\u001b[?25l\u001b[?25h    \u001b[?25l\u001b[?25h*\u001b[?25l\u001b[?25h Commencez\u001b[?25l\u001b[?25h avec\u001b[?25l\u001b[?25h des\u001b[?25l\u001b[?25h datasets\u001b[?25l\u001b[?25h simples\u001b[?25l\u001b[?25h:\u001b[?25l\u001b[?25h image\u001b[?25l\u001b[?25h classification\u001b[?25l\u001b[?25h,\u001b[?25l\u001b[?25h segmentation\u001b[?25l\u001b[?25h d\u001b[?25l\u001b[?25h'\u001b[?25l\u001b[?25himages\u001b[?25l\u001b[?25h,\u001b[?25l\u001b[?25h etc\u001b[?25l\u001b[?25h.\u001b[?25l\u001b[?25h Util\u001b[?25l\u001b[?25hiser\u001b[?25l\u001b[?25h des\u001b[?25l\u001b[?25h libraries\u001b[?25l\u001b[?25h comme\u001b[?25l\u001b[?25h TensorFlow\u001b[?25l\u001b[?25h ou\u001b[?25l\u001b[?25h Py\u001b[?25l\u001b[?25hTorch\u001b[?25l\u001b[?25h.\u001b[?25l\u001b[?25h  \u001b[?25l\u001b[?25h\n",
            "\u001b[?25l\u001b[?25h    \u001b[?25l\u001b[?25h*\u001b[?25l\u001b[?25h Experiment\u001b[?25l\u001b[?25hé\u001b[?25l\u001b[?25h avec\u001b[?25l\u001b[?25h Y\u001b[?25l\u001b[?25hOLO\u001b[?25l\u001b[?25hv\u001b[?25l\u001b[?25h5\u001b[?25l\u001b[?25h (\u001b[?25l\u001b[?25hdé\u001b[?25l\u001b[?25htection\u001b[?25l\u001b[?25h d\u001b[?25l\u001b[?25h'\u001b[?25l\u001b[?25hobjets\u001b[?25l\u001b[?25h)\u001b[?25l\u001b[?25h :\u001b[?25l\u001b[?25h Le\u001b[?25l\u001b[?25h Y\u001b[?25l\u001b[?25hOLO\u001b[?25l\u001b[?25h est\u001b[?25l\u001b[?25h un\u001b[?25l\u001b[?25h excellent\u001b[?25l\u001b[?25h exemple\u001b[?25l\u001b[?25h de\u001b[?25l\u001b[?25h CNN\u001b[?25l\u001b[?25h et\u001b[?25l\u001b[?25h de\u001b[?25l\u001b[?25h l\u001b[?25l\u001b[?25h’\u001b[?25l\u001b[?25happlication\u001b[?25l\u001b[?25h à\u001b[?25l\u001b[?25h la\u001b[?25l\u001b[?25h dé\u001b[?25l\u001b[?25htection\u001b[?25l\u001b[?25h d\u001b[?25l\u001b[?25h'\u001b[?25l\u001b[?25hobjets\u001b[?25l\u001b[?25h.\u001b[?25l\u001b[?25h\n",
            "\n",
            "\u001b[?25l\u001b[?25h**\u001b[?25l\u001b[?25h3\u001b[?25l\u001b[?25h.\u001b[?25l\u001b[?25h  \u001b[?25l\u001b[?25hExpertise\u001b[?25l\u001b[?25h approfon\u001b[?25l\u001b[?25hdie\u001b[?25l\u001b[?25h:**\u001b[?25l\u001b[?25h\n",
            "\n",
            "\u001b[?25l\u001b[?25h*\u001b[?25l\u001b[?25h **\u001b[?25l\u001b[?25hDeep\u001b[?25l\u001b[?25h Learning\u001b[?25l\u001b[?25h:**\u001b[?25l\u001b[?25h  \u001b[?25l\u001b[?25hApp\u001b[?25l\u001b[?25hre\u001b[?25l\u001b[?25hnez\u001b[?25l\u001b[?25h les\u001b[?25l\u001b[?25h concepts\u001b[?25l\u001b[?25h de\u001b[?25l\u001b[?25h deep\u001b[?25l\u001b[?25h learning\u001b[?25l\u001b[?25h,\u001b[?25l\u001b[?25h y\u001b[?25l\u001b[?25h compris\u001b[?25l\u001b[?25h les\u001b[?25l\u001b[?25h architectures\u001b[?25l\u001b[?25h,\u001b[?25l\u001b[?25h les\u001b[?25l\u001b[?25h hyper\u001b[?25l\u001b[?25hparam\u001b[?25l\u001b[?25hètres\u001b[?25l\u001b[?25h et\u001b[?25l\u001b[?25h les\u001b[?25l\u001b[?25h techniques\u001b[?25l\u001b[?25h de\u001b[?25l\u001b[?25h validation\u001b[?25l\u001b[?25h.\u001b[?25l\u001b[?25h \u001b[?25l\u001b[?25h\n",
            "\u001b[?25l\u001b[?25h    \u001b[?25l\u001b[?25h*\u001b[?25l\u001b[?25h **\u001b[?25l\u001b[?25hArchitecture\u001b[?25l\u001b[?25h plus\u001b[?25l\u001b[?25h complexe\u001b[?25l\u001b[?25h :\u001b[?25l\u001b[?25h**\u001b[?25l\u001b[?25h  \u001b[?25l\u001b[?25hExplore\u001b[?25l\u001b[?25h des\u001b[?25l\u001b[?25h architectures\u001b[?25l\u001b[?25h plus\u001b[?25l\u001b[?25h complexes\u001b[?25l\u001b[?25h (\u001b[?25l\u001b[?25hRes\u001b[?25l\u001b[?25hNet\u001b[?25l\u001b[?25h,\u001b[?25l\u001b[?25h In\u001b[?25l\u001b[?25hception\u001b[?25l\u001b[?25h)\u001b[?25l\u001b[?25h et\u001b[?25l\u001b[?25h appre\u001b[?25l\u001b[?25hnez\u001b[?25l\u001b[?25h les\u001b[?25l\u001b[?25h techniques\u001b[?25l\u001b[?25h d\u001b[?25l\u001b[?25h'\u001b[?25l\u001b[?25hoptimis\u001b[?25l\u001b[?25hation\u001b[?25l\u001b[?25h pour\u001b[?25l\u001b[?25h un\u001b[?25l\u001b[?25h appren\u001b[?25l\u001b[?25htissage\u001b[?25l\u001b[?25h plus\u001b[?25l\u001b[?25h efficace\u001b[?25l\u001b[?25h.\u001b[?25l\u001b[?25h \u001b[?25l\u001b[?25h\n",
            "\u001b[?25l\u001b[?25h*\u001b[?25l\u001b[?25h **\u001b[?25l\u001b[?25hAnalyse\u001b[?25l\u001b[?25h de\u001b[?25l\u001b[?25h données\u001b[?25l\u001b[?25h:**\u001b[?25l\u001b[?25h  \u001b[?25l\u001b[?25hApp\u001b[?25l\u001b[?25hre\u001b[?25l\u001b[?25hnez\u001b[?25l\u001b[?25h à\u001b[?25l\u001b[?25h analyser\u001b[?25l\u001b[?25h les\u001b[?25l\u001b[?25h données\u001b[?25l\u001b[?25h,\u001b[?25l\u001b[?25h identifier\u001b[?25l\u001b[?25h les\u001b[?25l\u001b[?25h biais\u001b[?25l\u001b[?25h potenti\u001b[?25l\u001b[?25hels\u001b[?25l\u001b[?25h et\u001b[?25l\u001b[?25h explorer\u001b[?25l\u001b[?25h le\u001b[?25l\u001b[?25h concept\u001b[?25l\u001b[?25h de\u001b[?25l\u001b[?25h \"\u001b[?25l\u001b[?25htransfer\u001b[?25l\u001b[?25h learning\u001b[?25l\u001b[?25h\"\u001b[?25l\u001b[?25h (\u001b[?25l\u001b[?25happrentissage\u001b[?25l\u001b[?25h par\u001b[?25l\u001b[?25h transfert\u001b[?25l\u001b[?25h).\u001b[?25l\u001b[?25h\n",
            "\u001b[?25l\u001b[?25h*\u001b[?25l\u001b[?25h **\u001b[?25l\u001b[?25hOptimis\u001b[?25l\u001b[?25hation\u001b[?25l\u001b[?25h &\u001b[?25l\u001b[?25h recherche\u001b[?25l\u001b[?25h:**\u001b[?25l\u001b[?25h   \u001b[?25l\u001b[?25hDé\u001b[?25l\u001b[?25hvelop\u001b[?25l\u001b[?25hpez\u001b[?25l\u001b[?25h des\u001b[?25l\u001b[?25h techniques\u001b[?25l\u001b[?25h d\u001b[?25l\u001b[?25h’\u001b[?25l\u001b[?25hoptimis\u001b[?25l\u001b[?25hation\u001b[?25l\u001b[?25h des\u001b[?25l\u001b[?25h paramètres\u001b[?25l\u001b[?25h et\u001b[?25l\u001b[?25h une\u001b[?25l\u001b[?25h expertise\u001b[?25l\u001b[?25h en\u001b[?25l\u001b[?25h recherche\u001b[?25l\u001b[?25h d\u001b[?25l\u001b[?25h'\u001b[?25l\u001b[?25halg\u001b[?25l\u001b[?25horith\u001b[?25l\u001b[?25hmes\u001b[?25l\u001b[?25h de\u001b[?25l\u001b[?25h deep\u001b[?25l\u001b[?25h learning\u001b[?25l\u001b[?25h plus\u001b[?25l\u001b[?25h perform\u001b[?25l\u001b[?25hants\u001b[?25l\u001b[?25h.\u001b[?25l\u001b[?25h  \u001b[?25l\u001b[?25h\n",
            "\n",
            "\u001b[?25l\u001b[?25h**\u001b[?25l\u001b[?25h4\u001b[?25l\u001b[?25h.\u001b[?25l\u001b[?25h  \u001b[?25l\u001b[?25hCollaboration\u001b[?25l\u001b[?25h &\u001b[?25l\u001b[?25h appren\u001b[?25l\u001b[?25htissage\u001b[?25l\u001b[?25h continu\u001b[?25l\u001b[?25h:**\u001b[?25l\u001b[?25h\n",
            "\n",
            "\u001b[?25l\u001b[?25h*\u001b[?25l\u001b[?25h **\u001b[?25l\u001b[?25hCommun\u001b[?25l\u001b[?25hauté\u001b[?25l\u001b[?25h IA\u001b[?25l\u001b[?25h:**\u001b[?25l\u001b[?25h Rejo\u001b[?25l\u001b[?25hignez\u001b[?25l\u001b[?25h les\u001b[?25l\u001b[?25h communautés\u001b[?25l\u001b[?25h en\u001b[?25l\u001b[?25h ligne\u001b[?25l\u001b[?25h (\u001b[?25l\u001b[?25hReddit\u001b[?25l\u001b[?25h,\u001b[?25l\u001b[?25h Stack\u001b[?25l\u001b[?25hOverflow\u001b[?25l\u001b[?25h)\u001b[?25l\u001b[?25h et\u001b[?25l\u001b[?25h partici\u001b[?25l\u001b[?25hpez\u001b[?25l\u001b[?25h à\u001b[?25l\u001b[?25h des\u001b[?25l\u001b[?25h forums\u001b[?25l\u001b[?25h pour\u001b[?25l\u001b[?25h poser\u001b[?25l\u001b[?25h des\u001b[?25l\u001b[?25h questions\u001b[?25l\u001b[?25h et\u001b[?25l\u001b[?25h partager\u001b[?25l\u001b[?25h vos\u001b[?25l\u001b[?25h expériences\u001b[?25l\u001b[?25h.\u001b[?25l\u001b[?25h \u001b[?25l\u001b[?25h\n",
            "\u001b[?25l\u001b[?25h*\u001b[?25l\u001b[?25h **\u001b[?25l\u001b[?25hÉ\u001b[?25l\u001b[?25htudes\u001b[?25l\u001b[?25h avan\u001b[?25l\u001b[?25hcées\u001b[?25l\u001b[?25h:**\u001b[?25l\u001b[?25h  \u001b[?25l\u001b[?25hExplore\u001b[?25l\u001b[?25h des\u001b[?25l\u001b[?25h formations\u001b[?25l\u001b[?25h spécial\u001b[?25l\u001b[?25hisées\u001b[?25l\u001b[?25h,\u001b[?25l\u001b[?25h des\u001b[?25l\u001b[?25h livres\u001b[?25l\u001b[?25h de\u001b[?25l\u001b[?25h référence\u001b[?25l\u001b[?25h et\u001b[?25l\u001b[?25h des\u001b[?25l\u001b[?25h blogs\u001b[?25l\u001b[?25h d\u001b[?25l\u001b[?25h’\u001b[?25l\u001b[?25hexperts\u001b[?25l\u001b[?25h pour\u001b[?25l\u001b[?25h approfon\u001b[?25l\u001b[?25hdir\u001b[?25l\u001b[?25h vos\u001b[?25l\u001b[?25h connaissances\u001b[?25l\u001b[?25h.\u001b[?25l\u001b[?25h \u001b[?25l\u001b[?25h\n",
            "\n",
            "\u001b[?25l\u001b[?25h**\u001b[?25l\u001b[?25hConseils\u001b[?25l\u001b[?25h &\u001b[?25l\u001b[?25h encouragement\u001b[?25l\u001b[?25h:**\u001b[?25l\u001b[?25h\n",
            "\n",
            "\n",
            "\u001b[?25l\u001b[?25h*\u001b[?25l\u001b[?25h **\u001b[?25l\u001b[?25hSoy\u001b[?25l\u001b[?25hez\u001b[?25l\u001b[?25h patient\u001b[?25l\u001b[?25h :\u001b[?25l\u001b[?25h**\u001b[?25l\u001b[?25h L\u001b[?25l\u001b[?25h'\u001b[?25l\u001b[?25happrentissage\u001b[?25l\u001b[?25h du\u001b[?25l\u001b[?25h deep\u001b[?25l\u001b[?25h learning\u001b[?25l\u001b[?25h prend\u001b[?25l\u001b[?25h du\u001b[?25l\u001b[?25h temps\u001b[?25l\u001b[?25h et\u001b[?25l\u001b[?25h de\u001b[?25l\u001b[?25h la\u001b[?25l\u001b[?25h pers\u001b[?25l\u001b[?25hévé\u001b[?25l\u001b[?25hrance\u001b[?25l\u001b[?25h.\u001b[?25l\u001b[?25h N\u001b[?25l\u001b[?25h'\u001b[?25l\u001b[?25hay\u001b[?25l\u001b[?25hez\u001b[?25l\u001b[?25h pas\u001b[?25l\u001b[?25h peur\u001b[?25l\u001b[?25h de\u001b[?25l\u001b[?25h faire\u001b[?25l\u001b[?25h des\u001b[?25l\u001b[?25h erreurs\u001b[?25l\u001b[?25h !\u001b[?25l\u001b[?25h  \u001b[?25l\u001b[?25h\n",
            "\u001b[?25l\u001b[?25h*\u001b[?25l\u001b[?25h **\u001b[?25l\u001b[?25hPratique\u001b[?25l\u001b[?25h active\u001b[?25l\u001b[?25h :\u001b[?25l\u001b[?25h**\u001b[?25l\u001b[?25h La\u001b[?25l\u001b[?25h pratique\u001b[?25l\u001b[?25h est\u001b[?25l\u001b[?25h la\u001b[?25l\u001b[?25h clé\u001b[?25l\u001b[?25h!\u001b[?25l\u001b[?25h  \u001b[?25l\u001b[?25hCom\u001b[?25l\u001b[?25hmence\u001b[?25l\u001b[?25hz\u001b[?25l\u001b[?25h avec\u001b[?25l\u001b[?25h des\u001b[?25l\u001b[?25h projets\u001b[?25l\u001b[?25h simples\u001b[?25l\u001b[?25h et\u001b[?25l\u001b[?25h augmente\u001b[?25l\u001b[?25hz\u001b[?25l\u001b[?25h progressivement\u001b[?25l\u001b[?25h la\u001b[?25l\u001b[?25h complex\u001b[?25l\u001b[?25hité\u001b[?25l\u001b[?25h.\u001b[?25l\u001b[?25h \u001b[?25l\u001b[?25h\n",
            "\u001b[?25l\u001b[?25h*\u001b[?25l\u001b[?25h **\u001b[?25l\u001b[?25hSoy\u001b[?25l\u001b[?25hez\u001b[?25l\u001b[?25h curieux\u001b[?25l\u001b[?25h:**\u001b[?25l\u001b[?25h  \u001b[?25l\u001b[?25hL\u001b[?25l\u001b[?25hisez\u001b[?25l\u001b[?25h,\u001b[?25l\u001b[?25h partage\u001b[?25l\u001b[?25hz\u001b[?25l\u001b[?25h vos\u001b[?25l\u001b[?25h connaissances\u001b[?25l\u001b[?25h et\u001b[?25l\u001b[?25h continue\u001b[?25l\u001b[?25hz\u001b[?25l\u001b[?25h d\u001b[?25l\u001b[?25h'\u001b[?25l\u001b[?25happrendre\u001b[?25l\u001b[?25h pour\u001b[?25l\u001b[?25h rester\u001b[?25l\u001b[?25h à\u001b[?25l\u001b[?25h jour\u001b[?25l\u001b[?25h avec\u001b[?25l\u001b[?25h les\u001b[?25l\u001b[?25h dernières\u001b[?25l\u001b[?25h avan\u001b[?25l\u001b[?25hcées\u001b[?25l\u001b[?25h de\u001b[?25l\u001b[?25h l\u001b[?25l\u001b[?25h’\u001b[?25l\u001b[?25hIA\u001b[?25l\u001b[?25h.\u001b[?25l\u001b[?25h\n",
            "\n",
            "\u001b[?25l\u001b[?25hN\u001b[?25l\u001b[?25h’\u001b[?25l\u001b[?25hhésitez\u001b[?25l\u001b[?25h pas\u001b[?25l\u001b[?25h à\u001b[?25l\u001b[?25h me\u001b[?25l\u001b[?25h poser\u001b[?25l\u001b[?25h des\u001b[?25l\u001b[?25h questions\u001b[?25l\u001b[?25h !\u001b[?25l\u001b[?25h Je\u001b[?25l\u001b[?25h vous\u001b[?25l\u001b[?25h accompagne\u001b[?25l\u001b[?25h dans\u001b[?25l\u001b[?25h votre\u001b[?25l\u001b[?25h exploration\u001b[?25l\u001b[?25h du\u001b[?25l\u001b[?25h deep\u001b[?25l\u001b[?25h learning\u001b[?25l\u001b[?25h et\u001b[?25l\u001b[?25h de\u001b[?25l\u001b[?25h l\u001b[?25l\u001b[?25h'\u001b[?25l\u001b[?25hIA\u001b[?25l\u001b[?25h!\u001b[?25l\u001b[?25h 🚀\u001b[?25l\u001b[?25h\n",
            "\n",
            "\u001b[?25l\u001b[?25h"
          ]
        }
      ],
      "source": [
        "!ollama run mon-assistant-ia \"Comment apprendre la CNN et devenu un expert en IA\""
      ]
    },
    {
      "cell_type": "code",
      "execution_count": null,
      "metadata": {
        "id": "orotX6D55X4p",
        "colab": {
          "base_uri": "https://localhost:8080/"
        },
        "outputId": "bfe95edc-3ecc-44b0-8644-77f281561eb6"
      },
      "outputs": [
        {
          "output_type": "stream",
          "name": "stdout",
          "text": [
            "\u001b[?2026h\u001b[?25l\u001b[1G\u001b[?25h\u001b[?2026l\u001b[?2026h\u001b[?25l\u001b[1G\u001b[?25h\u001b[?2026l\u001b[?2026h\u001b[?25l\u001b[1G\u001b[?25h\u001b[?2026l\u001b[?2026h\u001b[?25l\u001b[1G\u001b[?25h\u001b[?2026l\u001b[?2026h\u001b[?25l\u001b[1G\u001b[?25h\u001b[?2026l\u001b[?2026h\u001b[?25l\u001b[1G\u001b[?25h\u001b[?2026l\u001b[?2026h\u001b[?25l\u001b[1G\u001b[?25h\u001b[?2026l\u001b[?2026h\u001b[?25l\u001b[1G\u001b[?25h\u001b[?2026l\u001b[?2026h\u001b[?25l\u001b[1G\u001b[?25h\u001b[?2026l\u001b[?2026h\u001b[?25l\u001b[1G\u001b[?25h\u001b[?2026l\u001b[?2026h\u001b[?25l\u001b[1G\u001b[?25h\u001b[?2026l\u001b[?2026h\u001b[?25l\u001b[1G\u001b[?25h\u001b[?2026l\u001b[?2026h\u001b[?25l\u001b[1G\u001b[?25h\u001b[?2026l\u001b[?2026h\u001b[?25l\u001b[1G\u001b[?25h\u001b[?2026l\u001b[?2026h\u001b[?25l\u001b[1G\u001b[?25h\u001b[?2026l\u001b[?2026h\u001b[?25l\u001b[1G\u001b[?25h\u001b[?2026l\u001b[?2026h\u001b[?25l\u001b[1G\u001b[?25h\u001b[?2026l\u001b[?2026h\u001b[?25l\u001b[1G\u001b[?25h\u001b[?2026l\u001b[?2026h\u001b[?25l\u001b[1G\u001b[?25h\u001b[?2026l\u001b[?2026h\u001b[?25l\u001b[1G\u001b[?25h\u001b[?2026l\u001b[?2026h\u001b[?25l\u001b[1G\u001b[?25h\u001b[?2026l\u001b[?2026h\u001b[?25l\u001b[1G\u001b[?25h\u001b[?2026l\u001b[?2026h\u001b[?25l\u001b[1G\u001b[?25h\u001b[?2026l\u001b[?2026h\u001b[?25l\u001b[1G\u001b[?25h\u001b[?2026l\u001b[?2026h\u001b[?25l\u001b[1G\u001b[?25h\u001b[?2026l\u001b[?2026h\u001b[?25l\u001b[1G\u001b[?25h\u001b[?2026l\u001b[?2026h\u001b[?25l\u001b[1G\u001b[?25h\u001b[?2026l\u001b[?2026h\u001b[?25l\u001b[1G\u001b[?25h\u001b[?2026l\u001b[?2026h\u001b[?25l\u001b[1G\u001b[?25h\u001b[?2026l\u001b[?2026h\u001b[?25l\u001b[1G\u001b[?25h\u001b[?2026l\u001b[?2026h\u001b[?25l\u001b[1G\u001b[?25h\u001b[?2026l\u001b[?2026h\u001b[?25l\u001b[1G\u001b[?25h\u001b[?2026l\u001b[?2026h\u001b[?25l\u001b[1G\u001b[?25h\u001b[?2026l\u001b[?2026h\u001b[?25l\u001b[1G\u001b[?25h\u001b[?2026l\u001b[?2026h\u001b[?25l\u001b[1G\u001b[?25h\u001b[?2026l\u001b[?2026h\u001b[?25l\u001b[1G\u001b[?25h\u001b[?2026l\u001b[?2026h\u001b[?25l\u001b[1G\u001b[?25h\u001b[?2026l\u001b[?2026h\u001b[?25l\u001b[1G\u001b[?25h\u001b[?2026l\u001b[?2026h\u001b[?25l\u001b[1G\u001b[?25h\u001b[?2026l\u001b[?2026h\u001b[?25l\u001b[1G\u001b[?25h\u001b[?2026l\u001b[?2026h\u001b[?25l\u001b[1G\u001b[?25h\u001b[?2026l\u001b[?2026h\u001b[?25l\u001b[1G\u001b[?25h\u001b[?2026l\u001b[?2026h\u001b[?25l\u001b[1G\u001b[?25h\u001b[?2026l\u001b[?2026h\u001b[?25l\u001b[1G\u001b[?25h\u001b[?2026l\u001b[?2026h\u001b[?25l\u001b[1G\u001b[?25h\u001b[?2026l\u001b[?2026h\u001b[?25l\u001b[1G\u001b[?25h\u001b[?2026l\u001b[?2026h\u001b[?25l\u001b[1G\u001b[?25h\u001b[?2026l\u001b[?2026h\u001b[?25l\u001b[1G\u001b[?25h\u001b[?2026l\u001b[?2026h\u001b[?25l\u001b[1G\u001b[?25h\u001b[?2026l\u001b[?2026h\u001b[?25l\u001b[1G\u001b[?25h\u001b[?2026l\u001b[?2026h\u001b[?25l\u001b[1G\u001b[?25h\u001b[?2026l\u001b[?2026h\u001b[?25l\u001b[1G\u001b[?25h\u001b[?2026l\u001b[?2026h\u001b[?25l\u001b[1G\u001b[?25h\u001b[?2026l\u001b[?2026h\u001b[?25l\u001b[1G\u001b[?25h\u001b[?2026l\u001b[?2026h\u001b[?25l\u001b[1G\u001b[?25h\u001b[?2026l\u001b[?2026h\u001b[?25l\u001b[1G\u001b[?25h\u001b[?2026l\u001b[?2026h\u001b[?25l\u001b[1G\u001b[?25h\u001b[?2026l\u001b[?2026h\u001b[?25l\u001b[1G\u001b[?25h\u001b[?2026l\u001b[?2026h\u001b[?25l\u001b[1G\u001b[?25h\u001b[?2026l\u001b[?2026h\u001b[?25l\u001b[1G\u001b[?25h\u001b[?2026l\u001b[?2026h\u001b[?25l\u001b[1G\u001b[?25h\u001b[?2026l\u001b[?2026h\u001b[?25l\u001b[1G\u001b[?25h\u001b[?2026l\u001b[?2026h\u001b[?25l\u001b[1G\u001b[?25h\u001b[?2026l\u001b[?2026h\u001b[?25l\u001b[1G\u001b[?25h\u001b[?2026l\u001b[?2026h\u001b[?25l\u001b[1G\u001b[?25h\u001b[?2026l\u001b[?2026h\u001b[?25l\u001b[1G\u001b[?25h\u001b[?2026l\u001b[?2026h\u001b[?25l\u001b[1G\u001b[?25h\u001b[?2026l\u001b[?2026h\u001b[?25l\u001b[1G\u001b[?25h\u001b[?2026l\u001b[?2026h\u001b[?25l\u001b[1G\u001b[?25h\u001b[?2026l\u001b[?2026h\u001b[?25l\u001b[1G\u001b[?25h\u001b[?2026l\u001b[?2026h\u001b[?25l\u001b[1G\u001b[?25h\u001b[?2026l\u001b[?2026h\u001b[?25l\u001b[1G\u001b[?25h\u001b[?2026l\u001b[?2026h\u001b[?25l\u001b[1G\u001b[?25h\u001b[?2026l\u001b[?2026h\u001b[?25l\u001b[1G\u001b[?25h\u001b[?2026l\u001b[?2026h\u001b[?25l\u001b[1G\u001b[?25h\u001b[?2026l\u001b[?2026h\u001b[?25l\u001b[1G\u001b[?25h\u001b[?2026l\u001b[?2026h\u001b[?25l\u001b[1G\u001b[?25h\u001b[?2026l\u001b[?2026h\u001b[?25l\u001b[1G\u001b[?25h\u001b[?2026l\u001b[?2026h\u001b[?25l\u001b[1G\u001b[?25h\u001b[?2026l\u001b[?2026h\u001b[?25l\u001b[1G\u001b[?25h\u001b[?2026l\u001b[?2026h\u001b[?25l\u001b[1G\u001b[?25h\u001b[?2026l\u001b[?2026h\u001b[?25l\u001b[1G\u001b[?25h\u001b[?2026l\u001b[?2026h\u001b[?25l\u001b[1G\u001b[?25h\u001b[?2026l\u001b[?2026h\u001b[?25l\u001b[1G\u001b[?25h\u001b[?2026l\u001b[?2026h\u001b[?25l\u001b[1G\u001b[?25h\u001b[?2026l\u001b[?2026h\u001b[?25l\u001b[1G\u001b[?25h\u001b[?2026l\u001b[?2026h\u001b[?25l\u001b[1G\u001b[?25h\u001b[?2026l\u001b[?2026h\u001b[?25l\u001b[1G\u001b[?25h\u001b[?2026l\u001b[?2026h\u001b[?25l\u001b[1G\u001b[?25h\u001b[?2026l\u001b[?2026h\u001b[?25l\u001b[1G\u001b[?25h\u001b[?2026l\u001b[?2026h\u001b[?25l\u001b[1G\u001b[?25h\u001b[?2026l\u001b[?2026h\u001b[?25l\u001b[1G\u001b[?25h\u001b[?2026l\u001b[?2026h\u001b[?25l\u001b[1G\u001b[?25h\u001b[?2026l\u001b[?2026h\u001b[?25l\u001b[1G\u001b[?25h\u001b[?2026l\u001b[?2026h\u001b[?25l\u001b[1G\u001b[?25h\u001b[?2026l\u001b[?2026h\u001b[?25l\u001b[1G\u001b[?25h\u001b[?2026l\u001b[?2026h\u001b[?25l\u001b[1G\u001b[?25h\u001b[?2026l\u001b[?2026h\u001b[?25l\u001b[1G\u001b[?25h\u001b[?2026l\u001b[?2026h\u001b[?25l\u001b[1G\u001b[?25h\u001b[?2026l\u001b[?2026h\u001b[?25l\u001b[1G\u001b[?25h\u001b[?2026l\u001b[?2026h\u001b[?25l\u001b[1G\u001b[?25h\u001b[?2026l\u001b[?2026h\u001b[?25l\u001b[1G\u001b[?25h\u001b[?2026l\u001b[?2026h\u001b[?25l\u001b[1G\u001b[?25h\u001b[?2026l\u001b[?2026h\u001b[?25l\u001b[1G\u001b[?25h\u001b[?2026l\u001b[?2026h\u001b[?25l\u001b[1G\u001b[?25h\u001b[?2026l\u001b[?2026h\u001b[?25l\u001b[1G\u001b[?25h\u001b[?2026l\u001b[?2026h\u001b[?25l\u001b[1G\u001b[?25h\u001b[?2026l\u001b[?2026h\u001b[?25l\u001b[1G\u001b[?25h\u001b[?2026l\u001b[?2026h\u001b[?25l\u001b[1G\u001b[?25h\u001b[?2026l\u001b[?2026h\u001b[?25l\u001b[1G\u001b[?25h\u001b[?2026l\u001b[?2026h\u001b[?25l\u001b[1G\u001b[?25h\u001b[?2026l\u001b[?2026h\u001b[?25l\u001b[1G\u001b[?25h\u001b[?2026l\u001b[?2026h\u001b[?25l\u001b[1G\u001b[?25h\u001b[?2026l\u001b[?2026h\u001b[?25l\u001b[1G\u001b[?25h\u001b[?2026l\u001b[?2026h\u001b[?25l\u001b[1G\u001b[?25h\u001b[?2026l\u001b[?2026h\u001b[?25l\u001b[1G\u001b[?25h\u001b[?2026l\u001b[?2026h\u001b[?25l\u001b[1G\u001b[?25h\u001b[?2026l\u001b[?2026h\u001b[?25l\u001b[1G\u001b[?25h\u001b[?2026l\u001b[?2026h\u001b[?25l\u001b[1G\u001b[?25h\u001b[?2026l\u001b[?2026h\u001b[?25l\u001b[1G\u001b[?25h\u001b[?2026l\u001b[?2026h\u001b[?25l\u001b[1G\u001b[?25h\u001b[?2026l\u001b[?2026h\u001b[?25l\u001b[1G\u001b[?25h\u001b[?2026l\u001b[?2026h\u001b[?25l\u001b[1G\u001b[?25h\u001b[?2026l\u001b[?2026h\u001b[?25l\u001b[1G\u001b[?25h\u001b[?2026l\u001b[?2026h\u001b[?25l\u001b[1G\u001b[?25h\u001b[?2026l\u001b[?2026h\u001b[?25l\u001b[1G\u001b[?25h\u001b[?2026l\u001b[?2026h\u001b[?25l\u001b[1G\u001b[?25h\u001b[?2026l\u001b[?2026h\u001b[?25l\u001b[1G\u001b[?25h\u001b[?2026l\u001b[?2026h\u001b[?25l\u001b[1G\u001b[?25h\u001b[?2026l\u001b[?2026h\u001b[?25l\u001b[1G\u001b[?25h\u001b[?2026l\u001b[?2026h\u001b[?25l\u001b[1G\u001b[?25h\u001b[?2026l\u001b[?2026h\u001b[?25l\u001b[1G\u001b[?25h\u001b[?2026l\u001b[?2026h\u001b[?25l\u001b[1G\u001b[?25h\u001b[?2026l\u001b[?2026h\u001b[?25l\u001b[1G\u001b[?25h\u001b[?2026l\u001b[?2026h\u001b[?25l\u001b[1G\u001b[?25h\u001b[?2026l\u001b[?2026h\u001b[?25l\u001b[1G\u001b[?25h\u001b[?2026l\u001b[?2026h\u001b[?25l\u001b[1G\u001b[?25h\u001b[?2026l\u001b[?2026h\u001b[?25l\u001b[1G\u001b[?25h\u001b[?2026l\u001b[?2026h\u001b[?25l\u001b[1G\u001b[?25h\u001b[?2026l\u001b[?2026h\u001b[?25l\u001b[1G\u001b[?25h\u001b[?2026l\u001b[?2026h\u001b[?25l\u001b[1G\u001b[?25h\u001b[?2026l\u001b[?2026h\u001b[?25l\u001b[1G\u001b[?25h\u001b[?2026l\u001b[?2026h\u001b[?25l\u001b[1G\u001b[?25h\u001b[?2026l\u001b[?2026h\u001b[?25l\u001b[1G\u001b[?25h\u001b[?2026l\u001b[?2026h\u001b[?25l\u001b[1G\u001b[?25h\u001b[?2026l\u001b[?2026h\u001b[?25l\u001b[1G\u001b[?25h\u001b[?2026l\u001b[?2026h\u001b[?25l\u001b[1G\u001b[?25h\u001b[?2026l\u001b[?2026h\u001b[?25l\u001b[1G\u001b[?25h\u001b[?2026l\u001b[?2026h\u001b[?25l\u001b[1G\u001b[?25h\u001b[?2026l\u001b[?2026h\u001b[?25l\u001b[1G\u001b[?25h\u001b[?2026l\u001b[?2026h\u001b[?25l\u001b[1G\u001b[?25h\u001b[?2026l\u001b[?2026h\u001b[?25l\u001b[1G\u001b[?25h\u001b[?2026l\u001b[?2026h\u001b[?25l\u001b[1G\u001b[?25h\u001b[?2026l\u001b[?2026h\u001b[?25l\u001b[1G\u001b[?25h\u001b[?2026l\u001b[?2026h\u001b[?25l\u001b[1G\u001b[?25h\u001b[?2026l\u001b[?2026h\u001b[?25l\u001b[1G\u001b[?25h\u001b[?2026l\u001b[?2026h\u001b[?25l\u001b[1G\u001b[?25h\u001b[?2026l\u001b[?2026h\u001b[?25l\u001b[1G\u001b[?25h\u001b[?2026l\u001b[?2026h\u001b[?25l\u001b[1G\u001b[?25h\u001b[?2026l\u001b[?2026h\u001b[?25l\u001b[1G\u001b[?25h\u001b[?2026l\u001b[?2026h\u001b[?25l\u001b[1G\u001b[?25h\u001b[?2026l\u001b[?2026h\u001b[?25l\u001b[1G\u001b[?25h\u001b[?2026l\u001b[?2026h\u001b[?25l\u001b[1G\u001b[?25h\u001b[?2026l\u001b[?2026h\u001b[?25l\u001b[1G\u001b[?25h\u001b[?2026l\u001b[?2026h\u001b[?25l\u001b[1G\u001b[?25h\u001b[?2026l\u001b[?2026h\u001b[?25l\u001b[1G\u001b[?25h\u001b[?2026l\u001b[?2026h\u001b[?25l\u001b[1G\u001b[?25h\u001b[?2026l\u001b[?2026h\u001b[?25l\u001b[1G\u001b[?25h\u001b[?2026l\u001b[?2026h\u001b[?25l\u001b[1G\u001b[?25h\u001b[?2026l\u001b[?2026h\u001b[?25l\u001b[1G\u001b[?25h\u001b[?2026l\u001b[?2026h\u001b[?25l\u001b[1G\u001b[?25h\u001b[?2026l\u001b[?2026h\u001b[?25l\u001b[1G\u001b[?25h\u001b[?2026l\u001b[?2026h\u001b[?25l\u001b[1G\u001b[?25h\u001b[?2026l\u001b[?2026h\u001b[?25l\u001b[1G\u001b[?25h\u001b[?2026l\u001b[?2026h\u001b[?25l\u001b[1G\u001b[?25h\u001b[?2026l\u001b[?2026h\u001b[?25l\u001b[1G\u001b[?25h\u001b[?2026l\u001b[?2026h\u001b[?25l\u001b[1G\u001b[?25h\u001b[?2026l\u001b[?2026h\u001b[?25l\u001b[1G\u001b[?25h\u001b[?2026l\u001b[?2026h\u001b[?25l\u001b[1G\u001b[?25h\u001b[?2026l\u001b[?2026h\u001b[?25l\u001b[1G\u001b[?25h\u001b[?2026l\u001b[?2026h\u001b[?25l\u001b[1G\u001b[?25h\u001b[?2026l\u001b[?2026h\u001b[?25l\u001b[1G\u001b[?25h\u001b[?2026l\u001b[?2026h\u001b[?25l\u001b[1G\u001b[?25h\u001b[?2026l\u001b[?2026h\u001b[?25l\u001b[1G\u001b[?25h\u001b[?2026l\u001b[?2026h\u001b[?25l\u001b[1G\u001b[?25h\u001b[?2026l\u001b[?2026h\u001b[?25l\u001b[1G\u001b[?25h\u001b[?2026l\u001b[?2026h\u001b[?25l\u001b[1G\u001b[?25h\u001b[?2026l\u001b[?2026h\u001b[?25l\u001b[1G\u001b[?25h\u001b[?2026l\u001b[?2026h\u001b[?25l\u001b[1G\u001b[?25h\u001b[?2026l\u001b[?2026h\u001b[?25l\u001b[1G\u001b[?25h\u001b[?2026l\u001b[?2026h\u001b[?25l\u001b[1G\u001b[?25h\u001b[?2026l\u001b[?2026h\u001b[?25l\u001b[1G\u001b[?25h\u001b[?2026l\u001b[?2026h\u001b[?25l\u001b[1G\u001b[?25h\u001b[?2026l\u001b[?2026h\u001b[?25l\u001b[1G\u001b[?25h\u001b[?2026l\u001b[?2026h\u001b[?25l\u001b[1G\u001b[?25h\u001b[?2026l\u001b[?2026h\u001b[?25l\u001b[1G\u001b[?25h\u001b[?2026l\u001b[?2026h\u001b[?25l\u001b[1G\u001b[?25h\u001b[?2026l\u001b[?2026h\u001b[?25l\u001b[1G\u001b[?25h\u001b[?2026l\u001b[?2026h\u001b[?25l\u001b[1G\u001b[?25h\u001b[?2026l\u001b[?2026h\u001b[?25l\u001b[1G\u001b[?25h\u001b[?2026l\u001b[?2026h\u001b[?25l\u001b[1G\u001b[?25h\u001b[?2026l\u001b[?2026h\u001b[?25l\u001b[1G\u001b[?25h\u001b[?2026l\u001b[?2026h\u001b[?25l\u001b[1G\u001b[?25h\u001b[?2026l\u001b[?2026h\u001b[?25l\u001b[1G\u001b[?25h\u001b[?2026l\u001b[?2026h\u001b[?25l\u001b[1G\u001b[?25h\u001b[?2026l\u001b[?2026h\u001b[?25l\u001b[1G\u001b[?25h\u001b[?2026l\u001b[?2026h\u001b[?25l\u001b[1G\u001b[?25h\u001b[?2026l\u001b[?2026h\u001b[?25l\u001b[1G\u001b[?25h\u001b[?2026l\u001b[?25l\u001b[?2026h\u001b[?25l\u001b[1G\u001b[?25h\u001b[?2026l\u001b[2K\u001b[1G\u001b[?25hPas\u001b[?25l\u001b[?25h de\u001b[?25l\u001b[?25h problème\u001b[?25l\u001b[?25h !\u001b[?25l\u001b[?25h Cop\u001b[?25l\u001b[?25hier\u001b[?25l\u001b[?25h le\u001b[?25l\u001b[?25h code\u001b[?25l\u001b[?25h sans\u001b[?25l\u001b[?25h comprendre\u001b[?25l\u001b[?25h ses\u001b[?25l\u001b[?25h mécan\u001b[?25l\u001b[?25hismes\u001b[?25l\u001b[?25h peut\u001b[?25l\u001b[?25h être\u001b[?25l\u001b[?25h frust\u001b[?25l\u001b[?25hrant\u001b[?25l\u001b[?25h.\u001b[?25l\u001b[?25h  \u001b[?25l\u001b[?25h\n",
            "\n",
            "\u001b[?25l\u001b[?25h**\u001b[?25l\u001b[?25hPour\u001b[?25l\u001b[?25h t\u001b[?25l\u001b[?25h'\u001b[?25l\u001b[?25haider\u001b[?25l\u001b[?25h à\u001b[?25l\u001b[?25h dé\u001b[?25l\u001b[?25hcry\u001b[?25l\u001b[?25hpter\u001b[?25l\u001b[?25h ton\u001b[?25l\u001b[?25h projet\u001b[?25l\u001b[?25h Y\u001b[?25l\u001b[?25hOLO\u001b[?25l\u001b[?25hv\u001b[?25l\u001b[?25h5\u001b[?25l\u001b[?25h,\u001b[?25l\u001b[?25h dis\u001b[?25l\u001b[?25h-\u001b[?25l\u001b[?25hmoi\u001b[?25l\u001b[?25h :\u001b[?25l\u001b[?25h**\u001b[?25l\u001b[?25h\n",
            "\n",
            "\u001b[?25l\u001b[?25h1\u001b[?25l\u001b[?25h.\u001b[?25l\u001b[?25h **\u001b[?25l\u001b[?25hQuel\u001b[?25l\u001b[?25h est\u001b[?25l\u001b[?25h ton\u001b[?25l\u001b[?25h objectif\u001b[?25l\u001b[?25h exact\u001b[?25l\u001b[?25h ?\u001b[?25l\u001b[?25h**\u001b[?25l\u001b[?25h  \u001b[?25l\u001b[?25hQue\u001b[?25l\u001b[?25h veux\u001b[?25l\u001b[?25h-\u001b[?25l\u001b[?25htu\u001b[?25l\u001b[?25h faire\u001b[?25l\u001b[?25h exactement\u001b[?25l\u001b[?25h avec\u001b[?25l\u001b[?25h ton\u001b[?25l\u001b[?25h modèle\u001b[?25l\u001b[?25h Y\u001b[?25l\u001b[?25hOLO\u001b[?25l\u001b[?25hv\u001b[?25l\u001b[?25h5\u001b[?25l\u001b[?25h ?\u001b[?25l\u001b[?25h Dé\u001b[?25l\u001b[?25hfin\u001b[?25l\u001b[?25hir\u001b[?25l\u001b[?25h clairement\u001b[?25l\u001b[?25h l\u001b[?25l\u001b[?25h'\u001b[?25l\u001b[?25hobjectif\u001b[?25l\u001b[?25h permet\u001b[?25l\u001b[?25h de\u001b[?25l\u001b[?25h mieux\u001b[?25l\u001b[?25h comprendre\u001b[?25l\u001b[?25h les\u001b[?25l\u001b[?25h éléments\u001b[?25l\u001b[?25h du\u001b[?25l\u001b[?25h code\u001b[?25l\u001b[?25h et\u001b[?25l\u001b[?25h d\u001b[?25l\u001b[?25h'\u001b[?25l\u001b[?25horient\u001b[?25l\u001b[?25hé\u001b[?25l\u001b[?25h tes\u001b[?25l\u001b[?25h efforts\u001b[?25l\u001b[?25h vers\u001b[?25l\u001b[?25h la\u001b[?25l\u001b[?25h bonne\u001b[?25l\u001b[?25h solution\u001b[?25l\u001b[?25h.\u001b[?25l\u001b[?25h \u001b[?25l\u001b[?25h\n",
            "\u001b[?25l\u001b[?25h2\u001b[?25l\u001b[?25h.\u001b[?25l\u001b[?25h **\u001b[?25l\u001b[?25hPar\u001b[?25l\u001b[?25hles\u001b[?25l\u001b[?25h-\u001b[?25l\u001b[?25hmoi\u001b[?25l\u001b[?25h de\u001b[?25l\u001b[?25h ce\u001b[?25l\u001b[?25h que\u001b[?25l\u001b[?25h tu\u001b[?25l\u001b[?25h as\u001b[?25l\u001b[?25h déjà\u001b[?25l\u001b[?25h essayé\u001b[?25l\u001b[?25h.**\u001b[?25l\u001b[?25h Tu\u001b[?25l\u001b[?25h peux\u001b[?25l\u001b[?25h me\u001b[?25l\u001b[?25h fournir\u001b[?25l\u001b[?25h un\u001b[?25l\u001b[?25h lien\u001b[?25l\u001b[?25h vers\u001b[?25l\u001b[?25h ton\u001b[?25l\u001b[?25h projet\u001b[?25l\u001b[?25h (\u001b[?25l\u001b[?25hGitHub\u001b[?25l\u001b[?25h,\u001b[?25l\u001b[?25h Hug\u001b[?25l\u001b[?25hging\u001b[?25l\u001b[?25h Face\u001b[?25l\u001b[?25h)\u001b[?25l\u001b[?25h ou\u001b[?25l\u001b[?25h simplement\u001b[?25l\u001b[?25h le\u001b[?25l\u001b[?25h code\u001b[?25l\u001b[?25h en\u001b[?25l\u001b[?25h question\u001b[?25l\u001b[?25h.\u001b[?25l\u001b[?25h Plus\u001b[?25l\u001b[?25h on\u001b[?25l\u001b[?25h est\u001b[?25l\u001b[?25h précis\u001b[?25l\u001b[?25h,\u001b[?25l\u001b[?25h plus\u001b[?25l\u001b[?25h je\u001b[?25l\u001b[?25h peux\u001b[?25l\u001b[?25h t\u001b[?25l\u001b[?25h'\u001b[?25l\u001b[?25haider\u001b[?25l\u001b[?25h efficacement\u001b[?25l\u001b[?25h !\u001b[?25l\u001b[?25h \u001b[?25l\u001b[?25h\n",
            "\u001b[?25l\u001b[?25h3\u001b[?25l\u001b[?25h.\u001b[?25l\u001b[?25h **\u001b[?25l\u001b[?25hQuelles\u001b[?25l\u001b[?25h sont\u001b[?25l\u001b[?25h tes\u001b[?25l\u001b[?25h difficultés\u001b[?25l\u001b[?25h spécifiques\u001b[?25l\u001b[?25h ?\u001b[?25l\u001b[?25h**\u001b[?25l\u001b[?25h  \u001b[?25l\u001b[?25hY\u001b[?25l\u001b[?25h a\u001b[?25l\u001b[?25h-\u001b[?25l\u001b[?25ht\u001b[?25l\u001b[?25h-\u001b[?25l\u001b[?25hil\u001b[?25l\u001b[?25h des\u001b[?25l\u001b[?25h points\u001b[?25l\u001b[?25h du\u001b[?25l\u001b[?25h code\u001b[?25l\u001b[?25h que\u001b[?25l\u001b[?25h tu\u001b[?25l\u001b[?25h ne\u001b[?25l\u001b[?25h comprends\u001b[?25l\u001b[?25h pas\u001b[?25l\u001b[?25h ?\u001b[?25l\u001b[?25h As\u001b[?25l\u001b[?25h-\u001b[?25l\u001b[?25htu\u001b[?25l\u001b[?25h rencontré\u001b[?25l\u001b[?25h des\u001b[?25l\u001b[?25h messages\u001b[?25l\u001b[?25h d\u001b[?25l\u001b[?25h'\u001b[?25l\u001b[?25herreur\u001b[?25l\u001b[?25h ?\u001b[?25l\u001b[?25h \u001b[?25l\u001b[?25h\n",
            "\n",
            "\n",
            "\u001b[?25l\u001b[?25h**\u001b[?25l\u001b[?25hEn\u001b[?25l\u001b[?25h général\u001b[?25l\u001b[?25h,\u001b[?25l\u001b[?25h pour\u001b[?25l\u001b[?25h comprendre\u001b[?25l\u001b[?25h un\u001b[?25l\u001b[?25h projet\u001b[?25l\u001b[?25h Y\u001b[?25l\u001b[?25hOLO\u001b[?25l\u001b[?25hv\u001b[?25l\u001b[?25h5\u001b[?25l\u001b[?25h et\u001b[?25l\u001b[?25h l\u001b[?25l\u001b[?25h'\u001b[?25l\u001b[?25hoptimis\u001b[?25l\u001b[?25hation\u001b[?25l\u001b[?25h de\u001b[?25l\u001b[?25h son\u001b[?25l\u001b[?25h efficacité\u001b[?25l\u001b[?25h,\u001b[?25l\u001b[?25h il\u001b[?25l\u001b[?25h faut\u001b[?25l\u001b[?25h se\u001b[?25l\u001b[?25h concentr\u001b[?25l\u001b[?25her\u001b[?25l\u001b[?25h sur\u001b[?25l\u001b[?25h les\u001b[?25l\u001b[?25h points\u001b[?25l\u001b[?25h suivants\u001b[?25l\u001b[?25h :\u001b[?25l\u001b[?25h**\u001b[?25l\u001b[?25h\n",
            "\n",
            "\u001b[?25l\u001b[?25h*\u001b[?25l\u001b[?25h **\u001b[?25l\u001b[?25hArchitecture\u001b[?25l\u001b[?25h de\u001b[?25l\u001b[?25h la\u001b[?25l\u001b[?25h dé\u001b[?25l\u001b[?25htection\u001b[?25l\u001b[?25h d\u001b[?25l\u001b[?25h'\u001b[?25l\u001b[?25hobjets\u001b[?25l\u001b[?25h :\u001b[?25l\u001b[?25h**\u001b[?25l\u001b[?25h  \u001b[?25l\u001b[?25hY\u001b[?25l\u001b[?25hOLO\u001b[?25l\u001b[?25hv\u001b[?25l\u001b[?25h5\u001b[?25l\u001b[?25h utilise\u001b[?25l\u001b[?25h un\u001b[?25l\u001b[?25h réseau\u001b[?25l\u001b[?25h neuronal\u001b[?25l\u001b[?25h \"\u001b[?25l\u001b[?25hLong\u001b[?25l\u001b[?25h Short\u001b[?25l\u001b[?25h-\u001b[?25l\u001b[?25hTerm\u001b[?25l\u001b[?25h Memory\u001b[?25l\u001b[?25h\"\u001b[?25l\u001b[?25h (\u001b[?25l\u001b[?25hLSTM\u001b[?25l\u001b[?25h)\u001b[?25l\u001b[?25h pour\u001b[?25l\u001b[?25h la\u001b[?25l\u001b[?25h dé\u001b[?25l\u001b[?25htection\u001b[?25l\u001b[?25h d\u001b[?25l\u001b[?25h'\u001b[?25l\u001b[?25hobjets\u001b[?25l\u001b[?25h.\u001b[?25l\u001b[?25h\n",
            "\u001b[?25l\u001b[?25h*\u001b[?25l\u001b[?25h **\u001b[?25l\u001b[?25hProcess\u001b[?25l\u001b[?25hus\u001b[?25l\u001b[?25h de\u001b[?25l\u001b[?25h classification\u001b[?25l\u001b[?25h et\u001b[?25l\u001b[?25h de\u001b[?25l\u001b[?25h localisation\u001b[?25l\u001b[?25h :\u001b[?25l\u001b[?25h**\u001b[?25l\u001b[?25h Le\u001b[?25l\u001b[?25h modèle\u001b[?25l\u001b[?25h Y\u001b[?25l\u001b[?25hOLO\u001b[?25l\u001b[?25hv\u001b[?25l\u001b[?25h5\u001b[?25l\u001b[?25h analyse\u001b[?25l\u001b[?25h une\u001b[?25l\u001b[?25h image\u001b[?25l\u001b[?25h et\u001b[?25l\u001b[?25h identif\u001b[?25l\u001b[?25hie\u001b[?25l\u001b[?25h les\u001b[?25l\u001b[?25h objets\u001b[?25l\u001b[?25h présents\u001b[?25l\u001b[?25h,\u001b[?25l\u001b[?25h en\u001b[?25l\u001b[?25h local\u001b[?25l\u001b[?25hisant\u001b[?25l\u001b[?25h leurs\u001b[?25l\u001b[?25h positions\u001b[?25l\u001b[?25h par\u001b[?25l\u001b[?25h rapport\u001b[?25l\u001b[?25h à\u001b[?25l\u001b[?25h l\u001b[?25l\u001b[?25h'\u001b[?25l\u001b[?25himage\u001b[?25l\u001b[?25h.\u001b[?25l\u001b[?25h \u001b[?25l\u001b[?25h\n",
            "\u001b[?25l\u001b[?25h*\u001b[?25l\u001b[?25h **\u001b[?25l\u001b[?25hParam\u001b[?25l\u001b[?25hètres\u001b[?25l\u001b[?25h et\u001b[?25l\u001b[?25h entraî\u001b[?25l\u001b[?25hnement\u001b[?25l\u001b[?25h du\u001b[?25l\u001b[?25h modèle\u001b[?25l\u001b[?25h:**\u001b[?25l\u001b[?25h  \u001b[?25l\u001b[?25hL\u001b[?25l\u001b[?25h'\u001b[?25l\u001b[?25hefficacité\u001b[?25l\u001b[?25h du\u001b[?25l\u001b[?25h modèle\u001b[?25l\u001b[?25h dépend\u001b[?25l\u001b[?25h de\u001b[?25l\u001b[?25h la\u001b[?25l\u001b[?25h quantité\u001b[?25l\u001b[?25h de\u001b[?25l\u001b[?25h données\u001b[?25l\u001b[?25h d\u001b[?25l\u001b[?25h'\u001b[?25l\u001b[?25hentraînement\u001b[?25l\u001b[?25h et\u001b[?25l\u001b[?25h de\u001b[?25l\u001b[?25h la\u001b[?25l\u001b[?25h qualité\u001b[?25l\u001b[?25h des\u001b[?25l\u001b[?25h paramètres\u001b[?25l\u001b[?25h.\u001b[?25l\u001b[?25h\n",
            "\n",
            "\n",
            "\u001b[?25l\u001b[?25hJ\u001b[?25l\u001b[?25h'\u001b[?25l\u001b[?25hai\u001b[?25l\u001b[?25h hâte\u001b[?25l\u001b[?25h de\u001b[?25l\u001b[?25h te\u001b[?25l\u001b[?25h guider\u001b[?25l\u001b[?25h pour\u001b[?25l\u001b[?25h que\u001b[?25l\u001b[?25h ton\u001b[?25l\u001b[?25h projet\u001b[?25l\u001b[?25h Y\u001b[?25l\u001b[?25hOLO\u001b[?25l\u001b[?25hv\u001b[?25l\u001b[?25h5\u001b[?25l\u001b[?25h soit\u001b[?25l\u001b[?25h perform\u001b[?25l\u001b[?25hant\u001b[?25l\u001b[?25h et\u001b[?25l\u001b[?25h efficace\u001b[?25l\u001b[?25h!\u001b[?25l\u001b[?25h N\u001b[?25l\u001b[?25h'\u001b[?25l\u001b[?25hhésite\u001b[?25l\u001b[?25h pas\u001b[?25l\u001b[?25h à\u001b[?25l\u001b[?25h me\u001b[?25l\u001b[?25h fournir\u001b[?25l\u001b[?25h plus\u001b[?25l\u001b[?25h de\u001b[?25l\u001b[?25h détails\u001b[?25l\u001b[?25h afin\u001b[?25l\u001b[?25h de\u001b[?25l\u001b[?25h t\u001b[?25l\u001b[?25h'\u001b[?25l\u001b[?25haider\u001b[?25l\u001b[?25h au\u001b[?25l\u001b[?25h mieux\u001b[?25l\u001b[?25h.\u001b[?25l\u001b[?25h 😊\u001b[?25l\u001b[?25h \u001b[?25l\u001b[?25h\n",
            "\u001b[?25l\u001b[?25h\n",
            "\n",
            "\u001b[?25l\u001b[?25h"
          ]
        }
      ],
      "source": [
        "!ollama run mon-assistant-ia \" j'ai commencé mais je copie le code et je ne comprends pas\""
      ]
    }
  ],
  "metadata": {
    "colab": {
      "provenance": [],
      "authorship_tag": "ABX9TyPBiDTVsGUVRplerXv3Sjn6",
      "include_colab_link": true
    },
    "kernelspec": {
      "display_name": "Python 3",
      "name": "python3"
    },
    "language_info": {
      "name": "python"
    }
  },
  "nbformat": 4,
  "nbformat_minor": 0
}