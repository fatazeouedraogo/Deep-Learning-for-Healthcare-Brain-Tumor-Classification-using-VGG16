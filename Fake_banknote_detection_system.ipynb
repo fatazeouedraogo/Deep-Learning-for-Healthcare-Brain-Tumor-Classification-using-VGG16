{
  "nbformat": 4,
  "nbformat_minor": 0,
  "metadata": {
    "colab": {
      "provenance": [],
      "authorship_tag": "ABX9TyOMWp5wUH6T8FWo+YgIacmg",
      "include_colab_link": true
    },
    "kernelspec": {
      "name": "python3",
      "display_name": "Python 3"
    },
    "language_info": {
      "name": "python"
    }
  },
  "cells": [
    {
      "cell_type": "markdown",
      "metadata": {
        "id": "view-in-github",
        "colab_type": "text"
      },
      "source": [
        "<a href=\"https://colab.research.google.com/github/fatazeouedraogo/Deep-Learning-for-Healthcare-Brain-Tumor-Classification-using-VGG16/blob/main/Fake_banknote_detection_system.ipynb\" target=\"_parent\"><img src=\"https://colab.research.google.com/assets/colab-badge.svg\" alt=\"Open In Colab\"/></a>"
      ]
    },
    {
      "cell_type": "markdown",
      "source": [
        "# **Fake banknote detection system using the UCI dataset**"
      ],
      "metadata": {
        "id": "ImZS-Zx9V0z-"
      }
    },
    {
      "cell_type": "markdown",
      "source": [
        "# Dataset download"
      ],
      "metadata": {
        "id": "hjKIFLo8WMFT"
      }
    },
    {
      "cell_type": "code",
      "execution_count": 1,
      "metadata": {
        "id": "k92lSnwES7eV"
      },
      "outputs": [],
      "source": [
        "import pandas as pd\n",
        "\n",
        "# Chargement direct depuis l'UCI\n",
        "url = \"https://archive.ics.uci.edu/ml/machine-learning-databases/00267/data_banknote_authentication.txt\"\n",
        "data = pd.read_csv(url, header=None, names=[\"variance\", \"skewness\", \"kurtosis\", \"entropy\", \"class\"])"
      ]
    },
    {
      "cell_type": "code",
      "source": [
        "# Aperçu des données\n",
        "print(data.head())\n",
        "\n",
        "# Statistiques descriptives\n",
        "print(data.describe())\n",
        "\n",
        "# Distribution des classes (0=vrai, 1=faux)\n",
        "print(data[\"class\"].value_counts())"
      ],
      "metadata": {
        "colab": {
          "base_uri": "https://localhost:8080/"
        },
        "id": "N6EuLS5HVvgU",
        "outputId": "c0377e31-1268-4778-97f5-91d311fd05d4"
      },
      "execution_count": 2,
      "outputs": [
        {
          "output_type": "stream",
          "name": "stdout",
          "text": [
            "   variance  skewness  kurtosis  entropy  class\n",
            "0   3.62160    8.6661   -2.8073 -0.44699      0\n",
            "1   4.54590    8.1674   -2.4586 -1.46210      0\n",
            "2   3.86600   -2.6383    1.9242  0.10645      0\n",
            "3   3.45660    9.5228   -4.0112 -3.59440      0\n",
            "4   0.32924   -4.4552    4.5718 -0.98880      0\n",
            "          variance     skewness     kurtosis      entropy        class\n",
            "count  1372.000000  1372.000000  1372.000000  1372.000000  1372.000000\n",
            "mean      0.433735     1.922353     1.397627    -1.191657     0.444606\n",
            "std       2.842763     5.869047     4.310030     2.101013     0.497103\n",
            "min      -7.042100   -13.773100    -5.286100    -8.548200     0.000000\n",
            "25%      -1.773000    -1.708200    -1.574975    -2.413450     0.000000\n",
            "50%       0.496180     2.319650     0.616630    -0.586650     0.000000\n",
            "75%       2.821475     6.814625     3.179250     0.394810     1.000000\n",
            "max       6.824800    12.951600    17.927400     2.449500     1.000000\n",
            "class\n",
            "0    762\n",
            "1    610\n",
            "Name: count, dtype: int64\n"
          ]
        }
      ]
    },
    {
      "cell_type": "markdown",
      "source": [
        "# Data Processing"
      ],
      "metadata": {
        "id": "YsJrMsTkWt8C"
      }
    },
    {
      "cell_type": "code",
      "source": [
        "from sklearn.model_selection import train_test_split\n",
        "\n",
        "# Features (X) and target (y)\n",
        "X = data.drop(\"class\", axis=1)\n",
        "y = data[\"class\"]\n",
        "\n",
        "# Split data (80% train, 20% test)\n",
        "X_train, X_test, y_train, y_test = train_test_split(X, y, test_size=0.2, random_state=42)"
      ],
      "metadata": {
        "id": "74G9iF3jWyCI"
      },
      "execution_count": 12,
      "outputs": []
    },
    {
      "cell_type": "markdown",
      "source": [
        "# Model Training"
      ],
      "metadata": {
        "id": "1qdOP56RXE4p"
      }
    },
    {
      "cell_type": "code",
      "source": [
        "from sklearn.ensemble import RandomForestClassifier\n",
        "from sklearn.metrics import accuracy_score, confusion_matrix\n",
        "import matplotlib.pyplot as plt\n",
        "\n",
        "# Initialize model with warm_start to add trees incrementally\n",
        "model = RandomForestClassifier(warm_start=True,\n",
        "                             n_estimators=0,  # Start with 0 trees\n",
        "                             random_state=42)\n",
        "\n",
        "# Train in \"epoch-like\" increments\n",
        "n_epochs = 10\n",
        "trees_per_epoch = 10\n",
        "train_acc = []\n",
        "test_acc = []\n",
        "\n",
        "for epoch in range(1, n_epochs + 1):\n",
        "    # Add more trees\n",
        "    model.n_estimators += trees_per_epoch\n",
        "    model.fit(X_train, y_train)\n",
        "\n",
        "    # Track accuracy\n",
        "    train_acc.append(accuracy_score(y_train, model.predict(X_train)))\n",
        "    test_acc.append(accuracy_score(y_test, model.predict(X_test)))\n",
        "\n",
        "    print(f\"Epoch {epoch}: Added {trees_per_epoch} trees (Total: {model.n_estimators})\")\n",
        "    print(f\"  Train Accuracy: {train_acc[-1]:.4f}\")\n",
        "    print(f\"  Test Accuracy: {test_acc[-1]:.4f}\")\n",
        "\n",
        "# Final evaluation\n",
        "y_pred = model.predict(X_test)\n",
        "print(\"\\nFinal Confusion Matrix:\\n\", confusion_matrix(y_test, y_pred))\n",
        "\n",
        "# Plot accuracy progression\n",
        "plt.plot(range(trees_per_epoch, (n_epochs+1)*trees_per_epoch, trees_per_epoch),\n",
        "         train_acc, label='Train')\n",
        "plt.plot(range(trees_per_epoch, (n_epochs+1)*trees_per_epoch, trees_per_epoch),\n",
        "         test_acc, label='Test')\n",
        "plt.xlabel('Number of Trees')\n",
        "plt.ylabel('Accuracy')\n",
        "plt.title('Accuracy vs. Number of Trees')\n",
        "plt.legend()\n",
        "plt.show()"
      ],
      "metadata": {
        "colab": {
          "base_uri": "https://localhost:8080/",
          "height": 1000
        },
        "id": "h3BDcUL7XHqp",
        "outputId": "c2bffab9-0d1e-4cf0-84cb-6066d054bbab"
      },
      "execution_count": 14,
      "outputs": [
        {
          "output_type": "stream",
          "name": "stdout",
          "text": [
            "Epoch 1: Added 10 trees (Total: 10)\n",
            "  Train Accuracy: 0.9991\n",
            "  Test Accuracy: 0.9927\n",
            "Epoch 2: Added 10 trees (Total: 20)\n",
            "  Train Accuracy: 0.9991\n",
            "  Test Accuracy: 0.9927\n",
            "Epoch 3: Added 10 trees (Total: 30)\n",
            "  Train Accuracy: 1.0000\n",
            "  Test Accuracy: 0.9927\n",
            "Epoch 4: Added 10 trees (Total: 40)\n",
            "  Train Accuracy: 1.0000\n",
            "  Test Accuracy: 0.9927\n",
            "Epoch 5: Added 10 trees (Total: 50)\n",
            "  Train Accuracy: 1.0000\n",
            "  Test Accuracy: 0.9891\n",
            "Epoch 6: Added 10 trees (Total: 60)\n",
            "  Train Accuracy: 1.0000\n",
            "  Test Accuracy: 0.9891\n",
            "Epoch 7: Added 10 trees (Total: 70)\n",
            "  Train Accuracy: 1.0000\n",
            "  Test Accuracy: 0.9927\n",
            "Epoch 8: Added 10 trees (Total: 80)\n",
            "  Train Accuracy: 1.0000\n",
            "  Test Accuracy: 0.9891\n",
            "Epoch 9: Added 10 trees (Total: 90)\n",
            "  Train Accuracy: 1.0000\n",
            "  Test Accuracy: 0.9927\n",
            "Epoch 10: Added 10 trees (Total: 100)\n",
            "  Train Accuracy: 1.0000\n",
            "  Test Accuracy: 0.9927\n",
            "\n",
            "Final Confusion Matrix:\n",
            " [[148   0]\n",
            " [  2 125]]\n"
          ]
        },
        {
          "output_type": "display_data",
          "data": {
            "text/plain": [
              "<Figure size 640x480 with 1 Axes>"
            ],
            "image/png": "[encoded data removed]"
          },
          "metadata": {}
        }
      ]
    }
  ]
}